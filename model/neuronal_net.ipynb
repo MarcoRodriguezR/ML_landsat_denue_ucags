{
 "cells": [
  {
   "cell_type": "code",
   "execution_count": 1,
   "id": "b823a219",
   "metadata": {},
   "outputs": [
    {
     "name": "stdout",
     "output_type": "stream",
     "text": [
      "Requirement already satisfied: geopandas in c:\\users\\andres.perez\\appdata\\local\\anaconda3\\lib\\site-packages (0.14.1)\n",
      "Requirement already satisfied: shapely in c:\\users\\andres.perez\\appdata\\local\\anaconda3\\lib\\site-packages (2.0.2)\n",
      "Requirement already satisfied: rasterio in c:\\users\\andres.perez\\appdata\\local\\anaconda3\\lib\\site-packages (1.3.9)\n",
      "Requirement already satisfied: Pillow in c:\\users\\andres.perez\\appdata\\local\\anaconda3\\lib\\site-packages (9.4.0)\n",
      "Requirement already satisfied: imgaug in c:\\users\\andres.perez\\appdata\\local\\anaconda3\\lib\\site-packages (0.4.0)\n",
      "Requirement already satisfied: pandas>=1.4.0 in c:\\users\\andres.perez\\appdata\\local\\anaconda3\\lib\\site-packages (from geopandas) (1.5.3)\n",
      "Requirement already satisfied: pyproj>=3.3.0 in c:\\users\\andres.perez\\appdata\\local\\anaconda3\\lib\\site-packages (from geopandas) (3.6.1)\n",
      "Requirement already satisfied: packaging in c:\\users\\andres.perez\\appdata\\local\\anaconda3\\lib\\site-packages (from geopandas) (22.0)\n",
      "Requirement already satisfied: fiona>=1.8.21 in c:\\users\\andres.perez\\appdata\\local\\anaconda3\\lib\\site-packages (from geopandas) (1.9.5)\n",
      "Requirement already satisfied: numpy>=1.14 in c:\\users\\andres.perez\\appdata\\local\\anaconda3\\lib\\site-packages (from shapely) (1.23.5)\n",
      "Requirement already satisfied: affine in c:\\users\\andres.perez\\appdata\\local\\anaconda3\\lib\\site-packages (from rasterio) (2.4.0)\n",
      "Requirement already satisfied: setuptools in c:\\users\\andres.perez\\appdata\\local\\anaconda3\\lib\\site-packages (from rasterio) (65.6.3)\n",
      "Requirement already satisfied: click>=4.0 in c:\\users\\andres.perez\\appdata\\local\\anaconda3\\lib\\site-packages (from rasterio) (8.0.4)\n",
      "Requirement already satisfied: snuggs>=1.4.1 in c:\\users\\andres.perez\\appdata\\local\\anaconda3\\lib\\site-packages (from rasterio) (1.4.7)\n",
      "Requirement already satisfied: click-plugins in c:\\users\\andres.perez\\appdata\\local\\anaconda3\\lib\\site-packages (from rasterio) (1.1.1)\n",
      "Requirement already satisfied: attrs in c:\\users\\andres.perez\\appdata\\local\\anaconda3\\lib\\site-packages (from rasterio) (22.1.0)\n",
      "Requirement already satisfied: certifi in c:\\users\\andres.perez\\appdata\\local\\anaconda3\\lib\\site-packages (from rasterio) (2023.5.7)\n",
      "Requirement already satisfied: cligj>=0.5 in c:\\users\\andres.perez\\appdata\\local\\anaconda3\\lib\\site-packages (from rasterio) (0.7.2)\n",
      "Requirement already satisfied: scipy in c:\\users\\andres.perez\\appdata\\local\\anaconda3\\lib\\site-packages (from imgaug) (1.10.0)\n",
      "Requirement already satisfied: matplotlib in c:\\users\\andres.perez\\appdata\\local\\anaconda3\\lib\\site-packages (from imgaug) (3.7.0)\n",
      "Requirement already satisfied: imageio in c:\\users\\andres.perez\\appdata\\local\\anaconda3\\lib\\site-packages (from imgaug) (2.26.0)\n",
      "Requirement already satisfied: six in c:\\users\\andres.perez\\appdata\\local\\anaconda3\\lib\\site-packages (from imgaug) (1.16.0)\n",
      "Requirement already satisfied: opencv-python in c:\\users\\andres.perez\\appdata\\local\\anaconda3\\lib\\site-packages (from imgaug) (4.8.1.78)\n",
      "Requirement already satisfied: scikit-image>=0.14.2 in c:\\users\\andres.perez\\appdata\\local\\anaconda3\\lib\\site-packages (from imgaug) (0.19.3)\n",
      "Requirement already satisfied: colorama in c:\\users\\andres.perez\\appdata\\local\\anaconda3\\lib\\site-packages (from click>=4.0->rasterio) (0.4.6)\n",
      "Requirement already satisfied: pytz>=2020.1 in c:\\users\\andres.perez\\appdata\\local\\anaconda3\\lib\\site-packages (from pandas>=1.4.0->geopandas) (2022.7)\n",
      "Requirement already satisfied: python-dateutil>=2.8.1 in c:\\users\\andres.perez\\appdata\\local\\anaconda3\\lib\\site-packages (from pandas>=1.4.0->geopandas) (2.8.2)\n",
      "Requirement already satisfied: PyWavelets>=1.1.1 in c:\\users\\andres.perez\\appdata\\local\\anaconda3\\lib\\site-packages (from scikit-image>=0.14.2->imgaug) (1.4.1)\n",
      "Requirement already satisfied: networkx>=2.2 in c:\\users\\andres.perez\\appdata\\local\\anaconda3\\lib\\site-packages (from scikit-image>=0.14.2->imgaug) (2.8.4)\n",
      "Requirement already satisfied: tifffile>=2019.7.26 in c:\\users\\andres.perez\\appdata\\local\\anaconda3\\lib\\site-packages (from scikit-image>=0.14.2->imgaug) (2021.7.2)\n",
      "Requirement already satisfied: pyparsing>=2.1.6 in c:\\users\\andres.perez\\appdata\\local\\anaconda3\\lib\\site-packages (from snuggs>=1.4.1->rasterio) (3.0.9)\n",
      "Requirement already satisfied: contourpy>=1.0.1 in c:\\users\\andres.perez\\appdata\\local\\anaconda3\\lib\\site-packages (from matplotlib->imgaug) (1.0.5)\n",
      "Requirement already satisfied: fonttools>=4.22.0 in c:\\users\\andres.perez\\appdata\\local\\anaconda3\\lib\\site-packages (from matplotlib->imgaug) (4.25.0)\n",
      "Requirement already satisfied: kiwisolver>=1.0.1 in c:\\users\\andres.perez\\appdata\\local\\anaconda3\\lib\\site-packages (from matplotlib->imgaug) (1.4.4)\n",
      "Requirement already satisfied: cycler>=0.10 in c:\\users\\andres.perez\\appdata\\local\\anaconda3\\lib\\site-packages (from matplotlib->imgaug) (0.11.0)\n"
     ]
    }
   ],
   "source": [
    "! pip install geopandas shapely rasterio Pillow imgaug "
   ]
  },
  {
   "cell_type": "code",
   "execution_count": 13,
   "id": "ee2593dc",
   "metadata": {},
   "outputs": [],
   "source": [
    "import numpy as np\n",
    "import pandas as pd\n",
    "import geopandas as gpd\n",
    "import rasterio\n",
    "from rasterio.plot import show\n",
    "from PIL import Image\n",
    "import random\n",
    "from pyproj import Proj, transform, Transformer\n",
    "from sklearn.preprocessing import MinMaxScaler, StandardScaler, OneHotEncoder, LabelEncoder\n",
    "from sklearn.model_selection import train_test_split\n",
    "from sklearn.compose import ColumnTransformer\n",
    "from sklearn.pipeline import Pipeline\n",
    "from imblearn.over_sampling import SMOTE\n",
    "from tensorflow.keras.models import Sequential\n",
    "from tensorflow.keras.layers import Input, Dense, Conv2D, Flatten, concatenate, Concatenate\n",
    "from tensorflow.keras.utils import to_categorical\n",
    "from keras.optimizers import Adam\n",
    "import tensorflow as tf\n",
    "import matplotlib.pyplot as plt\n",
    "from shapely.geometry import Point\n",
    "from sklearn.neighbors import NearestNeighbors"
   ]
  },
  {
   "cell_type": "markdown",
   "id": "0d200734",
   "metadata": {},
   "source": [
    "# Preparación de datos"
   ]
  },
  {
   "cell_type": "code",
   "execution_count": 3,
   "id": "afd84261",
   "metadata": {},
   "outputs": [],
   "source": [
    "ruta_tiff = \"imagen.tif\"\n",
    "\n",
    "with rasterio.open(ruta_tiff) as src:\n",
    "    srs_raster = src.crs.to_proj4()"
   ]
  },
  {
   "cell_type": "code",
   "execution_count": 5,
   "id": "b6728a2c",
   "metadata": {},
   "outputs": [
    {
     "name": "stderr",
     "output_type": "stream",
     "text": [
      "C:\\Users\\ANDRES.PEREZ\\AppData\\Local\\Temp\\ipykernel_2592\\95855496.py:6: DtypeWarning: Columns (35) have mixed types. Specify dtype option on import or set low_memory=False.\n",
      "  df = pd.read_csv(ruta_csv, encoding='latin1')\n"
     ]
    }
   ],
   "source": [
    "ruta_csv = \"denue.csv\"\n",
    "try:\n",
    "    df = pd.read_csv(ruta_csv, encoding='utf-8')\n",
    "except UnicodeDecodeError:\n",
    "    # If 'utf-8' fails, try 'latin1' encoding\n",
    "    df = pd.read_csv(ruta_csv, encoding='latin1')"
   ]
  },
  {
   "cell_type": "code",
   "execution_count": 7,
   "id": "b2172439",
   "metadata": {},
   "outputs": [],
   "source": [
    "# Selecciona las columnas deseadas\n",
    "df_limpio = df[[\"codigo_act\", \"per_ocu\", \"latitud\", \"longitud\"]].copy()\n",
    "df_limpio[\"codigo_act\"] = df_limpio[\"codigo_act\"].astype(str).str.slice(0, 2)\n",
    "df_limpio[\"codigo_act\"] = df_limpio[\"codigo_act\"].astype(float)\n",
    "# Reemplaza los valores 32 y 33 por 31\n",
    "df_limpio['codigo_act'].replace({32: 31, 33: 31}, inplace=True)\n",
    "\n",
    "# Reemplaza el valor 49 por 48\n",
    "df_limpio['codigo_act'].replace({49: 48}, inplace=True)"
   ]
  },
  {
   "cell_type": "code",
   "execution_count": 8,
   "id": "a4350778",
   "metadata": {},
   "outputs": [],
   "source": [
    "df_limpio = df_limpio.drop('per_ocu', axis=1)"
   ]
  },
  {
   "cell_type": "markdown",
   "id": "20b95240",
   "metadata": {},
   "source": [
    "# Convertir a GeoDataFrame"
   ]
  },
  {
   "cell_type": "code",
   "execution_count": 10,
   "id": "d168aeb4",
   "metadata": {},
   "outputs": [],
   "source": [
    "# Crea una columna 'geometry' utilizando las columnas de latitud y longitud\n",
    "geometry = [Point(xy) for xy in zip(df_limpio['longitud'], df_limpio['latitud'])]\n",
    "df_limpio['geometry'] = geometry\n",
    "\n",
    "# Convierte el DataFrame de pandas en un GeoDataFrame de GeoPandas\n",
    "gdf = gpd.GeoDataFrame(df_limpio, geometry='geometry')\n",
    "\n",
    "\n",
    "srs_gdf = \"+proj=longlat +ellps=WGS84 +datum=WGS84 +no_defs\"\n",
    "transformador = Transformer.from_proj(Proj(srs_gdf), Proj(srs_raster))\n",
    "gdf[\"geometry\"] = gdf[\"geometry\"].apply(lambda geom: Point(transformador.transform(geom.x, geom.y)))"
   ]
  },
  {
   "cell_type": "markdown",
   "id": "ac8696b3",
   "metadata": {},
   "source": [
    "# Encontrar caracteristicas de los vecinos"
   ]
  },
  {
   "cell_type": "code",
   "execution_count": 12,
   "id": "6d316c3b",
   "metadata": {},
   "outputs": [
    {
     "name": "stderr",
     "output_type": "stream",
     "text": [
      "C:\\Users\\ANDRES.PEREZ\\AppData\\Local\\Temp\\ipykernel_2592\\2534373260.py:20: DeprecationWarning: In a future version, `df.iloc[:, i] = newvals` will attempt to set the values inplace instead of always setting a new array. To retain the old behavior, use either `df[df.columns[i]] = newvals` or, if columns are non-unique, `df.isetitem(i, newvals)`\n",
      "  neighbor_codes_df.iloc[:, i] = gdf.iloc[indices[:, i]]['codigo_act'].values\n"
     ]
    }
   ],
   "source": [
    "import numpy as np\n",
    "from sklearn.neighbors import NearestNeighbors\n",
    "\n",
    "# Extrae las coordenadas de 'geometry' y conviértelas en un array numpy de forma vectorizada\n",
    "coordinates = np.array([[geom.x, geom.y] for geom in gdf['geometry']])\n",
    "\n",
    "# Crea un objeto NearestNeighbors para buscar los vecinos cercanos\n",
    "k_neighbors = 5  # Número de vecinos cercanos que deseas considerar\n",
    "neighbors = NearestNeighbors(n_neighbors=k_neighbors, algorithm='ball_tree', metric='haversine')\n",
    "neighbors.fit(coordinates)\n",
    "\n",
    "# Encuentra los vecinos cercanos para todas las filas en un solo paso\n",
    "distances, indices = neighbors.kneighbors(coordinates)\n",
    "\n",
    "# Preparar un DataFrame para los códigos de los vecinos\n",
    "neighbor_codes_df = pd.DataFrame(index=gdf.index, columns=[f'surrounding_code_{i+1}' for i in range(k_neighbors)])\n",
    "\n",
    "# Asignar los códigos de los vecinos a las nuevas columnas\n",
    "for i in range(k_neighbors):\n",
    "    neighbor_codes_df.iloc[:, i] = gdf.iloc[indices[:, i]]['codigo_act'].values\n",
    "\n",
    "# Concatena las columnas nuevas al GeoDataFrame original\n",
    "gdf = pd.concat([gdf, neighbor_codes_df], axis=1)\n"
   ]
  },
  {
   "cell_type": "markdown",
   "id": "2759d3b6",
   "metadata": {},
   "source": [
    "# Convertir datos a categoricas binarias"
   ]
  },
  {
   "cell_type": "code",
   "execution_count": 14,
   "id": "cbb6e2db",
   "metadata": {},
   "outputs": [],
   "source": [
    "# Convert y to a pandas Series\n",
    "y = gdf['codigo_act'].astype('category')\n",
    "\n",
    "# Create a dictionary to map category codes to their respective category labels\n",
    "y_dict = dict(enumerate(y.cat.categories))\n",
    "\n",
    "# Apply pd.get_dummies to create dummy variables for y\n",
    "y = pd.get_dummies(y, columns=['codigo_act'])\n",
    "\n",
    "# Convert y to a numpy array\n",
    "y = y.values\n",
    "\n",
    "# Rest of your code remains the same\n",
    "surronding = ['surrounding_code_1','surrounding_code_2', 'surrounding_code_3', 'surrounding_code_4', 'surrounding_code_5']\n",
    "\n",
    "# Create an empty DataFrame for X\n",
    "X = pd.DataFrame()\n",
    "\n",
    "for i in surronding:\n",
    "    # Create a new column in X for each column of 'surrounding'\n",
    "    X[i] = gdf[i].astype('category')\n",
    "\n",
    "# Apply pd.get_dummies to all columns of X\n",
    "X = pd.get_dummies(X, columns=surronding)\n",
    "X = X.values\n",
    "\n",
    "# Apply SMOTE to the training data for tabular features\n",
    "smote_tabular = SMOTE(random_state=42, k_neighbors=3)\n",
    "X_smote, y_smote = smote_tabular.fit_resample(X, y)"
   ]
  },
  {
   "cell_type": "code",
   "execution_count": 15,
   "id": "2d1a18c3",
   "metadata": {},
   "outputs": [],
   "source": [
    "X_smote_train, X_smote_test, y_smote_train, y_smote_test = train_test_split(X_smote, y_smote, test_size=0.2, random_state=42)"
   ]
  },
  {
   "cell_type": "markdown",
   "id": "11d8e59b",
   "metadata": {},
   "source": [
    "# Entrenamiento Red"
   ]
  },
  {
   "cell_type": "code",
   "execution_count": 16,
   "id": "22105317",
   "metadata": {},
   "outputs": [],
   "source": [
    "# Crear un modelo de red neuronal para clasificación binaria\n",
    "model = keras.Sequential([\n",
    "    keras.layers.Dense(64, activation='relu', input_shape=(X_smote_train.shape[1],)),\n",
    "    keras.layers.Dropout(0.2),\n",
    "    keras.layers.Dense(20, activation='sigmoid')  # Una unidad en la capa de salida para clasificación binaria\n",
    "])\n",
    "\n",
    "# Compilar el modelo\n",
    "model.compile(optimizer='adam', loss='mean_squared_error', metrics=['mae'])"
   ]
  },
  {
   "cell_type": "code",
   "execution_count": 17,
   "id": "ef247556",
   "metadata": {},
   "outputs": [
    {
     "name": "stdout",
     "output_type": "stream",
     "text": [
      "Epoch 1/100\n",
      "101/101 [==============================] - 1s 9ms/step - loss: 0.1519 - mae: 0.2476 - val_loss: 0.0585 - val_mae: 0.1231\n",
      "Epoch 2/100\n",
      "101/101 [==============================] - 1s 6ms/step - loss: 0.0525 - mae: 0.1009 - val_loss: 0.0481 - val_mae: 0.0845\n",
      "Epoch 3/100\n",
      "101/101 [==============================] - 1s 7ms/step - loss: 0.0476 - mae: 0.0803 - val_loss: 0.0462 - val_mae: 0.0746\n",
      "Epoch 4/100\n",
      "101/101 [==============================] - 1s 7ms/step - loss: 0.0461 - mae: 0.0741 - val_loss: 0.0450 - val_mae: 0.0709\n",
      "Epoch 5/100\n",
      "101/101 [==============================] - 1s 6ms/step - loss: 0.0449 - mae: 0.0715 - val_loss: 0.0436 - val_mae: 0.0691\n",
      "Epoch 6/100\n",
      "101/101 [==============================] - 1s 6ms/step - loss: 0.0435 - mae: 0.0698 - val_loss: 0.0421 - val_mae: 0.0672\n",
      "Epoch 7/100\n",
      "101/101 [==============================] - 1s 6ms/step - loss: 0.0418 - mae: 0.0675 - val_loss: 0.0402 - val_mae: 0.0644\n",
      "Epoch 8/100\n",
      "101/101 [==============================] - 1s 6ms/step - loss: 0.0400 - mae: 0.0645 - val_loss: 0.0386 - val_mae: 0.0612\n",
      "Epoch 9/100\n",
      "101/101 [==============================] - 1s 6ms/step - loss: 0.0388 - mae: 0.0618 - val_loss: 0.0376 - val_mae: 0.0586\n",
      "Epoch 10/100\n",
      "101/101 [==============================] - 1s 6ms/step - loss: 0.0379 - mae: 0.0594 - val_loss: 0.0367 - val_mae: 0.0561\n",
      "Epoch 11/100\n",
      "101/101 [==============================] - 1s 6ms/step - loss: 0.0370 - mae: 0.0570 - val_loss: 0.0359 - val_mae: 0.0538\n",
      "Epoch 12/100\n",
      "101/101 [==============================] - 1s 6ms/step - loss: 0.0363 - mae: 0.0549 - val_loss: 0.0353 - val_mae: 0.0518\n",
      "Epoch 13/100\n",
      "101/101 [==============================] - 1s 7ms/step - loss: 0.0357 - mae: 0.0531 - val_loss: 0.0348 - val_mae: 0.0498\n",
      "Epoch 14/100\n",
      "101/101 [==============================] - 1s 7ms/step - loss: 0.0352 - mae: 0.0514 - val_loss: 0.0344 - val_mae: 0.0483\n",
      "Epoch 15/100\n",
      "101/101 [==============================] - 1s 6ms/step - loss: 0.0348 - mae: 0.0499 - val_loss: 0.0340 - val_mae: 0.0470\n",
      "Epoch 16/100\n",
      "101/101 [==============================] - 1s 7ms/step - loss: 0.0344 - mae: 0.0488 - val_loss: 0.0336 - val_mae: 0.0458\n",
      "Epoch 17/100\n",
      "101/101 [==============================] - 1s 6ms/step - loss: 0.0341 - mae: 0.0477 - val_loss: 0.0333 - val_mae: 0.0448\n",
      "Epoch 18/100\n",
      "101/101 [==============================] - 1s 6ms/step - loss: 0.0338 - mae: 0.0466 - val_loss: 0.0330 - val_mae: 0.0437\n",
      "Epoch 19/100\n",
      "101/101 [==============================] - 1s 6ms/step - loss: 0.0334 - mae: 0.0456 - val_loss: 0.0327 - val_mae: 0.0427\n",
      "Epoch 20/100\n",
      "101/101 [==============================] - 1s 6ms/step - loss: 0.0331 - mae: 0.0446 - val_loss: 0.0325 - val_mae: 0.0417\n",
      "Epoch 21/100\n",
      "101/101 [==============================] - 1s 6ms/step - loss: 0.0328 - mae: 0.0438 - val_loss: 0.0320 - val_mae: 0.0409\n",
      "Epoch 22/100\n",
      "101/101 [==============================] - 1s 7ms/step - loss: 0.0323 - mae: 0.0430 - val_loss: 0.0315 - val_mae: 0.0400\n",
      "Epoch 23/100\n",
      "101/101 [==============================] - 1s 7ms/step - loss: 0.0319 - mae: 0.0421 - val_loss: 0.0311 - val_mae: 0.0392\n",
      "Epoch 24/100\n",
      "101/101 [==============================] - 1s 8ms/step - loss: 0.0314 - mae: 0.0413 - val_loss: 0.0304 - val_mae: 0.0383\n",
      "Epoch 25/100\n",
      "101/101 [==============================] - 1s 7ms/step - loss: 0.0305 - mae: 0.0406 - val_loss: 0.0290 - val_mae: 0.0371\n",
      "Epoch 26/100\n",
      "101/101 [==============================] - 1s 6ms/step - loss: 0.0291 - mae: 0.0395 - val_loss: 0.0278 - val_mae: 0.0358\n",
      "Epoch 27/100\n",
      "101/101 [==============================] - 1s 7ms/step - loss: 0.0277 - mae: 0.0383 - val_loss: 0.0260 - val_mae: 0.0341\n",
      "Epoch 28/100\n",
      "101/101 [==============================] - 1s 7ms/step - loss: 0.0257 - mae: 0.0366 - val_loss: 0.0237 - val_mae: 0.0320\n",
      "Epoch 29/100\n",
      "101/101 [==============================] - 1s 6ms/step - loss: 0.0235 - mae: 0.0347 - val_loss: 0.0217 - val_mae: 0.0302\n",
      "Epoch 30/100\n",
      "101/101 [==============================] - 1s 6ms/step - loss: 0.0217 - mae: 0.0332 - val_loss: 0.0198 - val_mae: 0.0286\n",
      "Epoch 31/100\n",
      "101/101 [==============================] - 1s 6ms/step - loss: 0.0197 - mae: 0.0315 - val_loss: 0.0180 - val_mae: 0.0265\n",
      "Epoch 32/100\n",
      "101/101 [==============================] - 1s 6ms/step - loss: 0.0182 - mae: 0.0292 - val_loss: 0.0165 - val_mae: 0.0244\n",
      "Epoch 33/100\n",
      "101/101 [==============================] - 1s 7ms/step - loss: 0.0167 - mae: 0.0276 - val_loss: 0.0151 - val_mae: 0.0226\n",
      "Epoch 34/100\n",
      "101/101 [==============================] - 1s 7ms/step - loss: 0.0152 - mae: 0.0254 - val_loss: 0.0135 - val_mae: 0.0207\n",
      "Epoch 35/100\n",
      "101/101 [==============================] - 1s 5ms/step - loss: 0.0137 - mae: 0.0234 - val_loss: 0.0124 - val_mae: 0.0189\n",
      "Epoch 36/100\n",
      "101/101 [==============================] - 1s 6ms/step - loss: 0.0125 - mae: 0.0218 - val_loss: 0.0115 - val_mae: 0.0177\n",
      "Epoch 37/100\n",
      "101/101 [==============================] - 1s 6ms/step - loss: 0.0120 - mae: 0.0206 - val_loss: 0.0106 - val_mae: 0.0166\n",
      "Epoch 38/100\n",
      "101/101 [==============================] - 1s 6ms/step - loss: 0.0109 - mae: 0.0192 - val_loss: 0.0102 - val_mae: 0.0157\n",
      "Epoch 39/100\n",
      "101/101 [==============================] - 1s 6ms/step - loss: 0.0105 - mae: 0.0184 - val_loss: 0.0095 - val_mae: 0.0148\n",
      "Epoch 40/100\n",
      "101/101 [==============================] - 1s 6ms/step - loss: 0.0098 - mae: 0.0176 - val_loss: 0.0088 - val_mae: 0.0140\n",
      "Epoch 41/100\n",
      "101/101 [==============================] - 1s 6ms/step - loss: 0.0091 - mae: 0.0166 - val_loss: 0.0084 - val_mae: 0.0134\n",
      "Epoch 42/100\n",
      "101/101 [==============================] - 1s 6ms/step - loss: 0.0086 - mae: 0.0157 - val_loss: 0.0078 - val_mae: 0.0126\n",
      "Epoch 43/100\n",
      "101/101 [==============================] - 1s 6ms/step - loss: 0.0081 - mae: 0.0150 - val_loss: 0.0075 - val_mae: 0.0121\n",
      "Epoch 44/100\n",
      "101/101 [==============================] - 1s 6ms/step - loss: 0.0078 - mae: 0.0145 - val_loss: 0.0073 - val_mae: 0.0117\n",
      "Epoch 45/100\n",
      "101/101 [==============================] - 1s 7ms/step - loss: 0.0075 - mae: 0.0140 - val_loss: 0.0069 - val_mae: 0.0113\n",
      "Epoch 46/100\n",
      "101/101 [==============================] - 1s 6ms/step - loss: 0.0071 - mae: 0.0134 - val_loss: 0.0068 - val_mae: 0.0109\n",
      "Epoch 47/100\n",
      "101/101 [==============================] - 1s 6ms/step - loss: 0.0071 - mae: 0.0131 - val_loss: 0.0067 - val_mae: 0.0105\n",
      "Epoch 48/100\n",
      "101/101 [==============================] - 1s 6ms/step - loss: 0.0070 - mae: 0.0127 - val_loss: 0.0066 - val_mae: 0.0103\n",
      "Epoch 49/100\n",
      "101/101 [==============================] - 1s 7ms/step - loss: 0.0069 - mae: 0.0123 - val_loss: 0.0066 - val_mae: 0.0101\n",
      "Epoch 50/100\n",
      "101/101 [==============================] - 1s 6ms/step - loss: 0.0068 - mae: 0.0120 - val_loss: 0.0065 - val_mae: 0.0099\n",
      "Epoch 51/100\n",
      "101/101 [==============================] - 1s 6ms/step - loss: 0.0068 - mae: 0.0117 - val_loss: 0.0065 - val_mae: 0.0098\n",
      "Epoch 52/100\n",
      "101/101 [==============================] - 1s 6ms/step - loss: 0.0067 - mae: 0.0116 - val_loss: 0.0065 - val_mae: 0.0097\n",
      "Epoch 53/100\n",
      "101/101 [==============================] - 1s 6ms/step - loss: 0.0067 - mae: 0.0114 - val_loss: 0.0064 - val_mae: 0.0095\n",
      "Epoch 54/100\n",
      "101/101 [==============================] - 1s 7ms/step - loss: 0.0066 - mae: 0.0112 - val_loss: 0.0063 - val_mae: 0.0093\n",
      "Epoch 55/100\n",
      "101/101 [==============================] - 1s 7ms/step - loss: 0.0065 - mae: 0.0110 - val_loss: 0.0062 - val_mae: 0.0092\n",
      "Epoch 56/100\n",
      "101/101 [==============================] - 1s 6ms/step - loss: 0.0064 - mae: 0.0109 - val_loss: 0.0061 - val_mae: 0.0091\n",
      "Epoch 57/100\n",
      "101/101 [==============================] - 1s 6ms/step - loss: 0.0063 - mae: 0.0106 - val_loss: 0.0061 - val_mae: 0.0089\n",
      "Epoch 58/100\n",
      "101/101 [==============================] - 1s 6ms/step - loss: 0.0064 - mae: 0.0105 - val_loss: 0.0060 - val_mae: 0.0087\n",
      "Epoch 59/100\n",
      "101/101 [==============================] - 1s 6ms/step - loss: 0.0062 - mae: 0.0102 - val_loss: 0.0060 - val_mae: 0.0086\n",
      "Epoch 60/100\n",
      "101/101 [==============================] - 1s 6ms/step - loss: 0.0062 - mae: 0.0101 - val_loss: 0.0059 - val_mae: 0.0085\n",
      "Epoch 61/100\n",
      "101/101 [==============================] - 1s 6ms/step - loss: 0.0061 - mae: 0.0099 - val_loss: 0.0058 - val_mae: 0.0084\n",
      "Epoch 62/100\n"
     ]
    },
    {
     "name": "stdout",
     "output_type": "stream",
     "text": [
      "101/101 [==============================] - 1s 6ms/step - loss: 0.0060 - mae: 0.0097 - val_loss: 0.0058 - val_mae: 0.0083\n",
      "Epoch 63/100\n",
      "101/101 [==============================] - 1s 6ms/step - loss: 0.0060 - mae: 0.0096 - val_loss: 0.0058 - val_mae: 0.0082\n",
      "Epoch 64/100\n",
      "101/101 [==============================] - 1s 7ms/step - loss: 0.0060 - mae: 0.0095 - val_loss: 0.0058 - val_mae: 0.0082\n",
      "Epoch 65/100\n",
      "101/101 [==============================] - 1s 7ms/step - loss: 0.0060 - mae: 0.0094 - val_loss: 0.0058 - val_mae: 0.0081\n",
      "Epoch 66/100\n",
      "101/101 [==============================] - 1s 6ms/step - loss: 0.0060 - mae: 0.0094 - val_loss: 0.0057 - val_mae: 0.0081\n",
      "Epoch 67/100\n",
      "101/101 [==============================] - 1s 6ms/step - loss: 0.0059 - mae: 0.0092 - val_loss: 0.0057 - val_mae: 0.0080\n",
      "Epoch 68/100\n",
      "101/101 [==============================] - 1s 6ms/step - loss: 0.0059 - mae: 0.0092 - val_loss: 0.0057 - val_mae: 0.0079\n",
      "Epoch 69/100\n",
      "101/101 [==============================] - 1s 6ms/step - loss: 0.0059 - mae: 0.0091 - val_loss: 0.0057 - val_mae: 0.0079\n",
      "Epoch 70/100\n",
      "101/101 [==============================] - 1s 6ms/step - loss: 0.0059 - mae: 0.0090 - val_loss: 0.0057 - val_mae: 0.0079\n",
      "Epoch 71/100\n",
      "101/101 [==============================] - 1s 6ms/step - loss: 0.0059 - mae: 0.0089 - val_loss: 0.0057 - val_mae: 0.0078\n",
      "Epoch 72/100\n",
      "101/101 [==============================] - 1s 6ms/step - loss: 0.0059 - mae: 0.0091 - val_loss: 0.0057 - val_mae: 0.0078\n",
      "Epoch 73/100\n",
      "101/101 [==============================] - 1s 7ms/step - loss: 0.0059 - mae: 0.0089 - val_loss: 0.0057 - val_mae: 0.0077\n",
      "Epoch 74/100\n",
      "101/101 [==============================] - 1s 6ms/step - loss: 0.0058 - mae: 0.0087 - val_loss: 0.0057 - val_mae: 0.0077\n",
      "Epoch 75/100\n",
      "101/101 [==============================] - 1s 8ms/step - loss: 0.0058 - mae: 0.0087 - val_loss: 0.0056 - val_mae: 0.0077\n",
      "Epoch 76/100\n",
      "101/101 [==============================] - 1s 7ms/step - loss: 0.0060 - mae: 0.0089 - val_loss: 0.0057 - val_mae: 0.0076\n",
      "Epoch 77/100\n",
      "101/101 [==============================] - 1s 6ms/step - loss: 0.0058 - mae: 0.0086 - val_loss: 0.0056 - val_mae: 0.0076\n",
      "Epoch 78/100\n",
      "101/101 [==============================] - 1s 6ms/step - loss: 0.0058 - mae: 0.0086 - val_loss: 0.0056 - val_mae: 0.0076\n",
      "Epoch 79/100\n",
      "101/101 [==============================] - 1s 6ms/step - loss: 0.0058 - mae: 0.0086 - val_loss: 0.0056 - val_mae: 0.0076\n",
      "Epoch 80/100\n",
      "101/101 [==============================] - 1s 6ms/step - loss: 0.0057 - mae: 0.0085 - val_loss: 0.0056 - val_mae: 0.0076\n",
      "Epoch 81/100\n",
      "101/101 [==============================] - 1s 6ms/step - loss: 0.0057 - mae: 0.0084 - val_loss: 0.0056 - val_mae: 0.0075\n",
      "Epoch 82/100\n",
      "101/101 [==============================] - 1s 6ms/step - loss: 0.0057 - mae: 0.0083 - val_loss: 0.0055 - val_mae: 0.0075\n",
      "Epoch 83/100\n",
      "101/101 [==============================] - 1s 6ms/step - loss: 0.0057 - mae: 0.0083 - val_loss: 0.0055 - val_mae: 0.0074\n",
      "Epoch 84/100\n",
      "101/101 [==============================] - 1s 6ms/step - loss: 0.0057 - mae: 0.0082 - val_loss: 0.0055 - val_mae: 0.0074\n",
      "Epoch 85/100\n",
      "101/101 [==============================] - 1s 7ms/step - loss: 0.0057 - mae: 0.0083 - val_loss: 0.0055 - val_mae: 0.0073\n",
      "Epoch 86/100\n",
      "101/101 [==============================] - 1s 7ms/step - loss: 0.0057 - mae: 0.0083 - val_loss: 0.0055 - val_mae: 0.0073\n",
      "Epoch 87/100\n",
      "101/101 [==============================] - 1s 6ms/step - loss: 0.0056 - mae: 0.0082 - val_loss: 0.0054 - val_mae: 0.0072\n",
      "Epoch 88/100\n",
      "101/101 [==============================] - 1s 6ms/step - loss: 0.0056 - mae: 0.0080 - val_loss: 0.0054 - val_mae: 0.0072\n",
      "Epoch 89/100\n",
      "101/101 [==============================] - 1s 6ms/step - loss: 0.0056 - mae: 0.0081 - val_loss: 0.0054 - val_mae: 0.0072\n",
      "Epoch 90/100\n",
      "101/101 [==============================] - 1s 6ms/step - loss: 0.0057 - mae: 0.0082 - val_loss: 0.0054 - val_mae: 0.0072\n",
      "Epoch 91/100\n",
      "101/101 [==============================] - 1s 6ms/step - loss: 0.0056 - mae: 0.0080 - val_loss: 0.0054 - val_mae: 0.0071\n",
      "Epoch 92/100\n",
      "101/101 [==============================] - 1s 6ms/step - loss: 0.0056 - mae: 0.0079 - val_loss: 0.0054 - val_mae: 0.0071\n",
      "Epoch 93/100\n",
      "101/101 [==============================] - 1s 6ms/step - loss: 0.0056 - mae: 0.0079 - val_loss: 0.0054 - val_mae: 0.0071\n",
      "Epoch 94/100\n",
      "101/101 [==============================] - 1s 6ms/step - loss: 0.0055 - mae: 0.0078 - val_loss: 0.0054 - val_mae: 0.0071\n",
      "Epoch 95/100\n",
      "101/101 [==============================] - 1s 6ms/step - loss: 0.0055 - mae: 0.0078 - val_loss: 0.0054 - val_mae: 0.0071\n",
      "Epoch 96/100\n",
      "101/101 [==============================] - 1s 7ms/step - loss: 0.0055 - mae: 0.0078 - val_loss: 0.0054 - val_mae: 0.0070\n",
      "Epoch 97/100\n",
      "101/101 [==============================] - 1s 7ms/step - loss: 0.0056 - mae: 0.0079 - val_loss: 0.0054 - val_mae: 0.0070\n",
      "Epoch 98/100\n",
      "101/101 [==============================] - 1s 6ms/step - loss: 0.0055 - mae: 0.0078 - val_loss: 0.0054 - val_mae: 0.0070\n",
      "Epoch 99/100\n",
      "101/101 [==============================] - 1s 6ms/step - loss: 0.0056 - mae: 0.0078 - val_loss: 0.0054 - val_mae: 0.0070\n",
      "Epoch 100/100\n",
      "101/101 [==============================] - 1s 6ms/step - loss: 0.0056 - mae: 0.0078 - val_loss: 0.0054 - val_mae: 0.0070\n"
     ]
    },
    {
     "data": {
      "text/plain": [
       "<keras.src.callbacks.History at 0x1ad90cd6350>"
      ]
     },
     "execution_count": 17,
     "metadata": {},
     "output_type": "execute_result"
    }
   ],
   "source": [
    "# Entrenar el modelo\n",
    "model.fit(X_smote_train, y_smote_train, epochs=100, batch_size=3648, validation_data=(X_smote_test, y_smote_test))"
   ]
  },
  {
   "cell_type": "code",
   "execution_count": 19,
   "id": "732005dd",
   "metadata": {},
   "outputs": [
    {
     "name": "stdout",
     "output_type": "stream",
     "text": [
      "Versión de tensorflow no compabile, intenta corriendo:\n",
      "podman-compose up model\n"
     ]
    }
   ],
   "source": [
    "if tf.__version__ == \"2.15.0\":\n",
    "    model.save('output_model/geo_recortes.keras')\n",
    "else:\n",
    "    print(\"Versión de tensorflow no compabile, intenta corriendo:\")\n",
    "    print(\"podman-compose up model\")"
   ]
  },
  {
   "cell_type": "markdown",
   "id": "7121da54",
   "metadata": {},
   "source": [
    "# Aplicacion del modelo"
   ]
  },
  {
   "cell_type": "markdown",
   "id": "5acc6d2c",
   "metadata": {},
   "source": [
    "## Convertir coordenadas a un sistema de coordenadas decimal"
   ]
  },
  {
   "cell_type": "code",
   "execution_count": 20,
   "id": "c7d983aa",
   "metadata": {},
   "outputs": [],
   "source": [
    "def latlon_to_gdf(latitud, longitud):\n",
    "    ruta_tiff = \"imagen.tif\"\n",
    "\n",
    "    with rasterio.open(ruta_tiff) as src:\n",
    "        srs_raster = src.crs.to_proj4()\n",
    "    # Crea un DataFrame con una sola fila que contiene la latitud y longitud proporcionadas\n",
    "    data = {'latitud': [latitud], 'longitud': [longitud]}\n",
    "    df = pd.DataFrame(data)\n",
    "\n",
    "    # Crea una columna 'geometry' utilizando las columnas de latitud y longitud\n",
    "    geometry = [Point(xy) for xy in zip(df['longitud'], df['latitud'])]\n",
    "    df['geometry'] = geometry\n",
    "\n",
    "    # Crea un GeoDataFrame de GeoPandas\n",
    "    gdf = gpd.GeoDataFrame(df, geometry='geometry')\n",
    "\n",
    "        \n",
    "    srs_gdf = \"+proj=longlat +ellps=WGS84 +datum=WGS84 +no_defs\"\n",
    "    transformador = Transformer.from_proj(Proj(srs_gdf), Proj(srs_raster))\n",
    "    gdf[\"geometry\"] = gdf[\"geometry\"].apply(lambda geom: Point(transformador.transform(geom.x, geom.y)))  \n",
    "    \n",
    "    return gdf\n",
    "\n",
    "# Ejemplo de uso\n",
    "latitud = 21.908992\n",
    "longitud = -102.329807\n",
    "resultado = latlon_to_gdf(latitud, longitud)"
   ]
  },
  {
   "cell_type": "markdown",
   "id": "620dd13f",
   "metadata": {},
   "source": [
    "## Extraer coordenadas x, y"
   ]
  },
  {
   "cell_type": "code",
   "execution_count": 22,
   "id": "f125da07",
   "metadata": {},
   "outputs": [],
   "source": [
    "# Extraer las coordenadas \"x\" e \"y\" en columnas separadas\n",
    "resultado['x'] = resultado['geometry'].x\n",
    "resultado['y'] = resultado['geometry'].y\n",
    "[coordenada_x,coordenada_y] = [resultado['x'][0],resultado['y'][0] ]"
   ]
  },
  {
   "cell_type": "markdown",
   "id": "07d163a2",
   "metadata": {},
   "source": [
    "## Encontrar vecinos cercanos"
   ]
  },
  {
   "cell_type": "code",
   "execution_count": 23,
   "id": "a3468972",
   "metadata": {},
   "outputs": [],
   "source": [
    "def find_nearest_neighbors(input_coords, gdf, k_neighbors=5):\n",
    "    # Extrae las coordenadas del gdf\n",
    "    coordinates = np.array([[geom.x, geom.y] for geom in gdf['geometry']])\n",
    "\n",
    "    # Crea e inicializa el objeto NearestNeighbors\n",
    "    neighbors = NearestNeighbors(n_neighbors=k_neighbors, algorithm='ball_tree', metric='haversine')\n",
    "    neighbors.fit(coordinates)\n",
    "\n",
    "    # Encuentra los vecinos más cercanos para las coordenadas dadas\n",
    "    distances, indices = neighbors.kneighbors([input_coords])\n",
    "\n",
    "    # Extrae los códigos de actividad de los vecinos más cercanos\n",
    "    neighbor_codes = gdf.iloc[indices[0]]['codigo_act'].values\n",
    "\n",
    "    return neighbor_codes\n",
    "\n",
    "# Uso de la función (ejemplo)\n",
    "# input_coords = [x, y]  # Reemplaza x, y con las coordenadas de interés\n",
    "# nearest_neighbor_codes = find_nearest_neighbors(input_coords, gdf)\n",
    "\n",
    "\n",
    "# Ejemplo de uso de la función:\n",
    "# Supongamos que tienes un GeoDataFrame llamado 'mi_gdf' y un arreglo de coordenadas llamado 'mis_coordenadas'\n",
    "neighbors_values = find_nearest_neighbors([coordenada_x,coordenada_y],gdf)"
   ]
  },
  {
   "cell_type": "markdown",
   "id": "8fbec3ee",
   "metadata": {},
   "source": [
    "## Codificación de los valores a categoricas"
   ]
  },
  {
   "cell_type": "code",
   "execution_count": 24,
   "id": "52fb259f",
   "metadata": {},
   "outputs": [],
   "source": [
    "# Diccionario dado\n",
    "diccionario = {0: 11.0, 1: 21.0, 2: 22.0, 3: 23.0, 4: 31.0, 5: 43.0, 6: 46.0, 7: 48.0, 8: 51.0, 9: 52.0, 10: 53.0, 11: 54.0, 12: 55.0, 13: 56.0, 14: 61.0, 15: 62.0, 16: 71.0, 17: 72.0, 18: 81.0, 19: 93.0}\n",
    "\n",
    "def crear_vectores(diccionario, neighbors_values):\n",
    "    # Inicializar la lista de vectores resultantes\n",
    "    vectores_resultantes = []\n",
    "\n",
    "    # Iterar sobre cada valor en neighbors_values\n",
    "    for valor in neighbors_values:\n",
    "        # Crear un vector de 20 ceros\n",
    "        vector = [0] * 20\n",
    "\n",
    "        # Buscar la clave en el diccionario que corresponda al valor actual\n",
    "        clave = next((k for k, v in diccionario.items() if v == valor), None)\n",
    "\n",
    "        # Si se encuentra la clave, poner un 1 en la posición correspondiente del vector\n",
    "        if clave is not None:\n",
    "            vector[clave] = 1\n",
    "\n",
    "        # Extender la lista con los elementos del vector\n",
    "        vectores_resultantes.extend(vector)\n",
    "\n",
    "    return vectores_resultantes\n",
    "\n",
    "vectores_resultantes = crear_vectores(diccionario, neighbors_values)\n",
    "vectores_resultantes = np.array(vectores_resultantes).reshape(-1, 100)"
   ]
  },
  {
   "cell_type": "markdown",
   "id": "1ba03f02",
   "metadata": {},
   "source": [
    "## Predicción"
   ]
  },
  {
   "cell_type": "code",
   "execution_count": 27,
   "id": "9beb230f",
   "metadata": {},
   "outputs": [
    {
     "name": "stdout",
     "output_type": "stream",
     "text": [
      "1/1 [==============================] - 0s 20ms/step\n",
      "Las coordenadas corresponden muy posiblemente a un negocio de:\n",
      "Servicios de alojamiento temporal y de preparación de alimentos y bebidas\n"
     ]
    }
   ],
   "source": [
    "# Realiza las predicciones en tus datos de prueba\n",
    "predicciones = model.predict(vectores_resultantes)\n",
    "\n",
    "# Encuentra el índice del valor más alto en cada predicción\n",
    "indice_predicciones = np.argmax(predicciones, axis=1)\n",
    "\n",
    "def obtener_numero_por_indice(diccionario, indice):\n",
    "    # Busca el valor en el diccionario usando el índice dado\n",
    "    valor = diccionario.get(indice, None)\n",
    "    return valor\n",
    "\n",
    "\n",
    "numeros_correspondientes = [obtener_numero_por_indice(diccionario, indice) for indice in indice_predicciones]\n",
    "diccionario_actividades = {\n",
    "    11.0: \"Agricultura, cría y explotación de animales, aprovechamiento forestal, pesca y caza\",\n",
    "    21.0: \"Minería\",\n",
    "    22.0: \"Generación, transmisión, distribución y comercialización de energía eléctrica, suministro de agua y de gas natural por ductos al consumidor final\",\n",
    "    23.0: \"Construcción\",\n",
    "    31.0: \"Industrias manufactureras\",\n",
    "    32.0: \"Industrias manufactureras\",\n",
    "    33.0: \"Industrias manufactureras\",\n",
    "    43.0: \"Comercio al por mayor\",\n",
    "    46.0: \"Comercio al por menor\",\n",
    "    48.0: \"Transportes, correos y almacenamiento\",\n",
    "    49.0: \"Transportes, correos y almacenamiento\",\n",
    "    51.0: \"Información en medios masivos\",\n",
    "    52.0: \"Servicios financieros y de seguros\",\n",
    "    53.0: \"Servicios inmobiliarios y de alquiler de bienes muebles e intangibles\",\n",
    "    54.0: \"Servicios profesionales, científicos y técnicos\",\n",
    "    55.0: \"Dirección y administración de grupos empresariales o corporativos\",\n",
    "    56.0: \"Servicios de apoyo a los negocios y manejo de residuos, y servicios de remediación\",\n",
    "    61.0: \"Servicios educativos\",\n",
    "    62.0: \"Servicios de salud y de asistencia social\",\n",
    "    71.0: \"Servicios de esparcimiento culturales y deportivos, y otros servicios recreativos\",\n",
    "    72.0: \"Servicios de alojamiento temporal y de preparación de alimentos y bebidas\",\n",
    "    81.0: \"Otros servicios excepto actividades gubernamentales\",\n",
    "    93.0: \"Actividades legislativas, gubernamentales, de impartición de justicia y de organismos internacionales y extraterritoriales\"\n",
    "}\n",
    "actividad = diccionario_actividades.get(numeros_correspondientes[0], \"No se encontró la actividad\")\n",
    "print(f\"Las coordenadas corresponden muy posiblemente a un negocio de:\")\n",
    "print(actividad)"
   ]
  }
 ],
 "metadata": {
  "kernelspec": {
   "display_name": "Python 3 (ipykernel)",
   "language": "python",
   "name": "python3"
  },
  "language_info": {
   "codemirror_mode": {
    "name": "ipython",
    "version": 3
   },
   "file_extension": ".py",
   "mimetype": "text/x-python",
   "name": "python",
   "nbconvert_exporter": "python",
   "pygments_lexer": "ipython3",
   "version": "3.10.9"
  }
 },
 "nbformat": 4,
 "nbformat_minor": 5
}
