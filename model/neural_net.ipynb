{
 "cells": [
  {
   "cell_type": "markdown",
   "id": "0dd465d7-8ede-4b0d-a590-e7d0cb2fe30e",
   "metadata": {
    "id": "0dd465d7-8ede-4b0d-a590-e7d0cb2fe30e"
   },
   "source": [
    "# Preprocesamiento"
   ]
  },
  {
   "cell_type": "code",
   "execution_count": 1,
   "id": "baeadb67-1db9-48ff-b830-b820d0a66b4c",
   "metadata": {
    "id": "baeadb67-1db9-48ff-b830-b820d0a66b4c",
    "outputId": "2ed58a12-0bc3-48a1-dfce-bf459e5808d6"
   },
   "outputs": [
    {
     "name": "stdout",
     "output_type": "stream",
     "text": [
      "Collecting geopandas\n",
      "  Downloading geopandas-0.14.1-py3-none-any.whl.metadata (1.5 kB)\n",
      "Collecting shapely\n",
      "  Downloading shapely-2.0.2-cp311-cp311-manylinux_2_17_x86_64.manylinux2014_x86_64.whl.metadata (7.0 kB)\n",
      "Collecting rasterio\n",
      "  Downloading rasterio-1.3.9-cp311-cp311-manylinux2014_x86_64.whl.metadata (14 kB)\n",
      "Requirement already satisfied: Pillow in /usr/local/lib/python3.11/dist-packages (10.1.0)\n",
      "Collecting fiona>=1.8.21 (from geopandas)\n",
      "  Downloading fiona-1.9.5-cp311-cp311-manylinux2014_x86_64.whl.metadata (49 kB)\n",
      "\u001b[2K     \u001b[90m━━━━━━━━━━━━━━━━━━━━━━━━━━━━━━━━━━━━━━━\u001b[0m \u001b[32m49.7/49.7 kB\u001b[0m \u001b[31m948.0 kB/s\u001b[0m eta \u001b[36m0:00:00\u001b[0m \u001b[36m0:00:01\u001b[0m\n",
      "\u001b[?25hRequirement already satisfied: packaging in /usr/local/lib/python3.11/dist-packages (from geopandas) (23.2)\n",
      "Requirement already satisfied: pandas>=1.4.0 in /usr/local/lib/python3.11/dist-packages (from geopandas) (2.1.4)\n",
      "Collecting pyproj>=3.3.0 (from geopandas)\n",
      "  Downloading pyproj-3.6.1-cp311-cp311-manylinux_2_17_x86_64.manylinux2014_x86_64.whl.metadata (31 kB)\n",
      "Requirement already satisfied: numpy>=1.14 in /usr/local/lib/python3.11/dist-packages (from shapely) (1.26.2)\n",
      "Collecting affine (from rasterio)\n",
      "  Downloading affine-2.4.0-py3-none-any.whl (15 kB)\n",
      "Requirement already satisfied: attrs in /usr/local/lib/python3.11/dist-packages (from rasterio) (23.1.0)\n",
      "Requirement already satisfied: certifi in /usr/local/lib/python3.11/dist-packages (from rasterio) (2023.11.17)\n",
      "Requirement already satisfied: click>=4.0 in /usr/local/lib/python3.11/dist-packages (from rasterio) (8.1.7)\n",
      "Collecting cligj>=0.5 (from rasterio)\n",
      "  Downloading cligj-0.7.2-py3-none-any.whl (7.1 kB)\n",
      "Collecting snuggs>=1.4.1 (from rasterio)\n",
      "  Downloading snuggs-1.4.7-py3-none-any.whl (5.4 kB)\n",
      "Collecting click-plugins (from rasterio)\n",
      "  Downloading click_plugins-1.1.1-py2.py3-none-any.whl (7.5 kB)\n",
      "Requirement already satisfied: setuptools in /usr/local/lib/python3.11/dist-packages (from rasterio) (69.0.2)\n",
      "Requirement already satisfied: six in /usr/lib/python3/dist-packages (from fiona>=1.8.21->geopandas) (1.16.0)\n",
      "Requirement already satisfied: python-dateutil>=2.8.2 in /usr/local/lib/python3.11/dist-packages (from pandas>=1.4.0->geopandas) (2.8.2)\n",
      "Requirement already satisfied: pytz>=2020.1 in /usr/local/lib/python3.11/dist-packages (from pandas>=1.4.0->geopandas) (2023.3.post1)\n",
      "Requirement already satisfied: tzdata>=2022.1 in /usr/local/lib/python3.11/dist-packages (from pandas>=1.4.0->geopandas) (2023.3)\n",
      "Requirement already satisfied: pyparsing>=2.1.6 in /usr/lib/python3/dist-packages (from snuggs>=1.4.1->rasterio) (2.4.7)\n",
      "Downloading geopandas-0.14.1-py3-none-any.whl (1.1 MB)\n",
      "\u001b[2K   \u001b[90m━━━━━━━━━━━━━━━━━━━━━━━━━━━━━━━━━━━━━━━━\u001b[0m \u001b[32m1.1/1.1 MB\u001b[0m \u001b[31m3.4 MB/s\u001b[0m eta \u001b[36m0:00:00\u001b[0ma \u001b[36m0:00:01\u001b[0m\n",
      "\u001b[?25hDownloading shapely-2.0.2-cp311-cp311-manylinux_2_17_x86_64.manylinux2014_x86_64.whl (2.5 MB)\n",
      "\u001b[2K   \u001b[90m━━━━━━━━━━━━━━━━━━━━━━━━━━━━━━━━━━━━━━━━\u001b[0m \u001b[32m2.5/2.5 MB\u001b[0m \u001b[31m3.8 MB/s\u001b[0m eta \u001b[36m0:00:00\u001b[0m00:01\u001b[0m00:01\u001b[0m\n",
      "\u001b[?25hDownloading rasterio-1.3.9-cp311-cp311-manylinux2014_x86_64.whl (20.6 MB)\n",
      "\u001b[2K   \u001b[90m━━━━━━━━━━━━━━━━━━━━━━━━━━━━━━━━━━━━━━━━\u001b[0m \u001b[32m20.6/20.6 MB\u001b[0m \u001b[31m4.3 MB/s\u001b[0m eta \u001b[36m0:00:00\u001b[0m00:01\u001b[0m00:01\u001b[0m\n",
      "\u001b[?25hDownloading fiona-1.9.5-cp311-cp311-manylinux2014_x86_64.whl (15.7 MB)\n",
      "\u001b[2K   \u001b[90m━━━━━━━━━━━━━━━━━━━━━━━━━━━━━━━━━━━━━━━━\u001b[0m \u001b[32m15.7/15.7 MB\u001b[0m \u001b[31m6.1 MB/s\u001b[0m eta \u001b[36m0:00:00\u001b[0m00:01\u001b[0m00:01\u001b[0m\n",
      "\u001b[?25hDownloading pyproj-3.6.1-cp311-cp311-manylinux_2_17_x86_64.manylinux2014_x86_64.whl (8.6 MB)\n",
      "\u001b[2K   \u001b[90m━━━━━━━━━━━━━━━━━━━━━━━━━━━━━━━━━━━━━━━━\u001b[0m \u001b[32m8.6/8.6 MB\u001b[0m \u001b[31m4.8 MB/s\u001b[0m eta \u001b[36m0:00:00\u001b[0m00:01\u001b[0m00:01\u001b[0mm\n",
      "\u001b[?25hInstalling collected packages: snuggs, shapely, pyproj, cligj, click-plugins, affine, rasterio, fiona, geopandas\n",
      "Successfully installed affine-2.4.0 click-plugins-1.1.1 cligj-0.7.2 fiona-1.9.5 geopandas-0.14.1 pyproj-3.6.1 rasterio-1.3.9 shapely-2.0.2 snuggs-1.4.7\n",
      "\u001b[33mWARNING: Running pip as the 'root' user can result in broken permissions and conflicting behaviour with the system package manager. It is recommended to use a virtual environment instead: https://pip.pypa.io/warnings/venv\u001b[0m\u001b[33m\n",
      "\u001b[0m"
     ]
    }
   ],
   "source": [
    "!pip install geopandas shapely rasterio Pillow"
   ]
  },
  {
   "cell_type": "code",
   "execution_count": 2,
   "id": "0ed0d988-40fa-4386-bc31-a08fc5c2937b",
   "metadata": {
    "id": "0ed0d988-40fa-4386-bc31-a08fc5c2937b"
   },
   "outputs": [],
   "source": [
    "import numpy as np\n",
    "import rasterio\n",
    "import pandas as pd\n",
    "\n",
    "from shapely.geometry import Point\n",
    "import geopandas as gpd\n",
    "from pyproj import Proj, Transformer"
   ]
  },
  {
   "cell_type": "markdown",
   "id": "20559ef0-d474-47ab-8520-361947cc2f0c",
   "metadata": {
    "id": "20559ef0-d474-47ab-8520-361947cc2f0c"
   },
   "source": [
    "## Generar dataframe base"
   ]
  },
  {
   "cell_type": "code",
   "execution_count": 3,
   "id": "f4e3d539-d20d-4bf0-9d52-36a6b422254c",
   "metadata": {
    "id": "f4e3d539-d20d-4bf0-9d52-36a6b422254c",
    "outputId": "2da2ae3f-98ed-4f2d-e2cc-4b892125909d"
   },
   "outputs": [
    {
     "name": "stderr",
     "output_type": "stream",
     "text": [
      "/tmp/ipykernel_22/2136972834.py:5: DtypeWarning: Columns (35) have mixed types. Specify dtype option on import or set low_memory=False.\n",
      "  df = pd.read_csv(ruta_denue_csv, encoding=\"latin1\")\n"
     ]
    },
    {
     "data": {
      "text/html": [
       "<div>\n",
       "<style scoped>\n",
       "    .dataframe tbody tr th:only-of-type {\n",
       "        vertical-align: middle;\n",
       "    }\n",
       "\n",
       "    .dataframe tbody tr th {\n",
       "        vertical-align: top;\n",
       "    }\n",
       "\n",
       "    .dataframe thead th {\n",
       "        text-align: right;\n",
       "    }\n",
       "</style>\n",
       "<table border=\"1\" class=\"dataframe\">\n",
       "  <thead>\n",
       "    <tr style=\"text-align: right;\">\n",
       "      <th></th>\n",
       "      <th>id</th>\n",
       "      <th>clee</th>\n",
       "      <th>nom_estab</th>\n",
       "      <th>raz_social</th>\n",
       "      <th>codigo_act</th>\n",
       "      <th>nombre_act</th>\n",
       "      <th>per_ocu</th>\n",
       "      <th>tipo_vial</th>\n",
       "      <th>nom_vial</th>\n",
       "      <th>tipo_v_e_1</th>\n",
       "      <th>...</th>\n",
       "      <th>localidad</th>\n",
       "      <th>ageb</th>\n",
       "      <th>manzana</th>\n",
       "      <th>telefono</th>\n",
       "      <th>correoelec</th>\n",
       "      <th>www</th>\n",
       "      <th>tipoUniEco</th>\n",
       "      <th>latitud</th>\n",
       "      <th>longitud</th>\n",
       "      <th>fecha_alta</th>\n",
       "    </tr>\n",
       "  </thead>\n",
       "  <tbody>\n",
       "    <tr>\n",
       "      <th>0</th>\n",
       "      <td>6862345</td>\n",
       "      <td>01001115119000031001000000U2</td>\n",
       "      <td>AGROPECUARIA CHARCOS DE QUEZADA</td>\n",
       "      <td>AGROPECUARIA CHARCOS DE QUEZADA SOCIEDAD DE PR...</td>\n",
       "      <td>115119</td>\n",
       "      <td>Otros servicios relacionados con la agricultura</td>\n",
       "      <td>6 a 10 personas</td>\n",
       "      <td>AVENIDA</td>\n",
       "      <td>UNIVERSIDAD</td>\n",
       "      <td>CALLE</td>\n",
       "      <td>...</td>\n",
       "      <td>Aguascalientes</td>\n",
       "      <td>0233</td>\n",
       "      <td>9</td>\n",
       "      <td>4492853716</td>\n",
       "      <td>NaN</td>\n",
       "      <td>NaN</td>\n",
       "      <td>Fijo</td>\n",
       "      <td>21.906992</td>\n",
       "      <td>-102.309807</td>\n",
       "      <td>2019-04</td>\n",
       "    </tr>\n",
       "    <tr>\n",
       "      <th>1</th>\n",
       "      <td>6905212</td>\n",
       "      <td>01001115119000041000000000U1</td>\n",
       "      <td>AGROPECUARIO LOS ALAMITOS</td>\n",
       "      <td>NaN</td>\n",
       "      <td>115119</td>\n",
       "      <td>Otros servicios relacionados con la agricultura</td>\n",
       "      <td>0 a 5 personas</td>\n",
       "      <td>CALLE</td>\n",
       "      <td>J. ENCARNACION PAYEN</td>\n",
       "      <td>CALLE</td>\n",
       "      <td>...</td>\n",
       "      <td>Aguascalientes</td>\n",
       "      <td>0322</td>\n",
       "      <td>18</td>\n",
       "      <td>4499960472</td>\n",
       "      <td>NaN</td>\n",
       "      <td>NaN</td>\n",
       "      <td>Fijo</td>\n",
       "      <td>21.889926</td>\n",
       "      <td>-102.314009</td>\n",
       "      <td>2019-11</td>\n",
       "    </tr>\n",
       "    <tr>\n",
       "      <th>2</th>\n",
       "      <td>6166248</td>\n",
       "      <td>01007112512000012001000000U8</td>\n",
       "      <td>CENTRO ACUÍCOLA PABELLON DE HIDALGO</td>\n",
       "      <td>SAGARPA</td>\n",
       "      <td>112512</td>\n",
       "      <td>Piscicultura y otra acuicultura, excepto camar...</td>\n",
       "      <td>0 a 5 personas</td>\n",
       "      <td>CALLE</td>\n",
       "      <td>NINGUNO</td>\n",
       "      <td>CALLE</td>\n",
       "      <td>...</td>\n",
       "      <td>SEMARNAT [Centro Acuícola]</td>\n",
       "      <td>0078</td>\n",
       "      <td>800</td>\n",
       "      <td>NaN</td>\n",
       "      <td>NaN</td>\n",
       "      <td>WWW.GOB.MX</td>\n",
       "      <td>Fijo</td>\n",
       "      <td>22.167778</td>\n",
       "      <td>-102.345556</td>\n",
       "      <td>2010-07</td>\n",
       "    </tr>\n",
       "    <tr>\n",
       "      <th>3</th>\n",
       "      <td>6166233</td>\n",
       "      <td>01010112512000011000000000U9</td>\n",
       "      <td>G. ACUÍCOLA SANTA ROSA</td>\n",
       "      <td>NaN</td>\n",
       "      <td>112512</td>\n",
       "      <td>Piscicultura y otra acuicultura, excepto camar...</td>\n",
       "      <td>6 a 10 personas</td>\n",
       "      <td>CARRETERA</td>\n",
       "      <td>SECTOR DE PRODUCCION N0 1 TERREMOTO EL LLANO A...</td>\n",
       "      <td>CARRETERA</td>\n",
       "      <td>...</td>\n",
       "      <td>Santa Rosa [Granja Acuícola]</td>\n",
       "      <td>0069</td>\n",
       "      <td>800</td>\n",
       "      <td>NaN</td>\n",
       "      <td>NaN</td>\n",
       "      <td>NaN</td>\n",
       "      <td>Fijo</td>\n",
       "      <td>21.956298</td>\n",
       "      <td>-101.997312</td>\n",
       "      <td>2014-12</td>\n",
       "    </tr>\n",
       "    <tr>\n",
       "      <th>4</th>\n",
       "      <td>6166234</td>\n",
       "      <td>01003112512000031001000000U7</td>\n",
       "      <td>GRANJA ACUICOLA ARROYO DE LOS CABALLOS</td>\n",
       "      <td>NaN</td>\n",
       "      <td>112512</td>\n",
       "      <td>Piscicultura y otra acuicultura, excepto camar...</td>\n",
       "      <td>0 a 5 personas</td>\n",
       "      <td>PROLONGACION</td>\n",
       "      <td>CUAUHTUMOC</td>\n",
       "      <td>CARRETERA</td>\n",
       "      <td>...</td>\n",
       "      <td>Arroyo Ojocalientillo</td>\n",
       "      <td>0100</td>\n",
       "      <td>2</td>\n",
       "      <td>4492741517</td>\n",
       "      <td>MARTINSAU2720@HOTMAIL.COM</td>\n",
       "      <td>NaN</td>\n",
       "      <td>Fijo</td>\n",
       "      <td>21.837255</td>\n",
       "      <td>-102.710931</td>\n",
       "      <td>2014-12</td>\n",
       "    </tr>\n",
       "  </tbody>\n",
       "</table>\n",
       "<p>5 rows × 42 columns</p>\n",
       "</div>"
      ],
      "text/plain": [
       "        id                          clee  \\\n",
       "0  6862345  01001115119000031001000000U2   \n",
       "1  6905212  01001115119000041000000000U1   \n",
       "2  6166248  01007112512000012001000000U8   \n",
       "3  6166233  01010112512000011000000000U9   \n",
       "4  6166234  01003112512000031001000000U7   \n",
       "\n",
       "                                nom_estab  \\\n",
       "0         AGROPECUARIA CHARCOS DE QUEZADA   \n",
       "1               AGROPECUARIO LOS ALAMITOS   \n",
       "2     CENTRO ACUÍCOLA PABELLON DE HIDALGO   \n",
       "3                  G. ACUÍCOLA SANTA ROSA   \n",
       "4  GRANJA ACUICOLA ARROYO DE LOS CABALLOS   \n",
       "\n",
       "                                          raz_social  codigo_act  \\\n",
       "0  AGROPECUARIA CHARCOS DE QUEZADA SOCIEDAD DE PR...      115119   \n",
       "1                                                NaN      115119   \n",
       "2                                           SAGARPA       112512   \n",
       "3                                                NaN      112512   \n",
       "4                                                NaN      112512   \n",
       "\n",
       "                                          nombre_act          per_ocu  \\\n",
       "0    Otros servicios relacionados con la agricultura  6 a 10 personas   \n",
       "1    Otros servicios relacionados con la agricultura   0 a 5 personas   \n",
       "2  Piscicultura y otra acuicultura, excepto camar...   0 a 5 personas   \n",
       "3  Piscicultura y otra acuicultura, excepto camar...  6 a 10 personas   \n",
       "4  Piscicultura y otra acuicultura, excepto camar...   0 a 5 personas   \n",
       "\n",
       "      tipo_vial                                           nom_vial tipo_v_e_1  \\\n",
       "0       AVENIDA                                        UNIVERSIDAD      CALLE   \n",
       "1         CALLE                               J. ENCARNACION PAYEN      CALLE   \n",
       "2         CALLE                                            NINGUNO      CALLE   \n",
       "3     CARRETERA  SECTOR DE PRODUCCION N0 1 TERREMOTO EL LLANO A...  CARRETERA   \n",
       "4  PROLONGACION                                         CUAUHTUMOC  CARRETERA   \n",
       "\n",
       "   ...                     localidad  ageb manzana    telefono  \\\n",
       "0  ...                Aguascalientes  0233       9  4492853716   \n",
       "1  ...                Aguascalientes  0322      18  4499960472   \n",
       "2  ...    SEMARNAT [Centro Acuícola]  0078     800         NaN   \n",
       "3  ...  Santa Rosa [Granja Acuícola]  0069     800         NaN   \n",
       "4  ...         Arroyo Ojocalientillo  0100       2  4492741517   \n",
       "\n",
       "                  correoelec         www tipoUniEco    latitud    longitud  \\\n",
       "0                        NaN         NaN       Fijo  21.906992 -102.309807   \n",
       "1                        NaN         NaN       Fijo  21.889926 -102.314009   \n",
       "2                        NaN  WWW.GOB.MX       Fijo  22.167778 -102.345556   \n",
       "3                        NaN         NaN       Fijo  21.956298 -101.997312   \n",
       "4  MARTINSAU2720@HOTMAIL.COM         NaN       Fijo  21.837255 -102.710931   \n",
       "\n",
       "   fecha_alta  \n",
       "0     2019-04  \n",
       "1     2019-11  \n",
       "2     2010-07  \n",
       "3     2014-12  \n",
       "4     2014-12  \n",
       "\n",
       "[5 rows x 42 columns]"
      ]
     },
     "execution_count": 3,
     "metadata": {},
     "output_type": "execute_result"
    }
   ],
   "source": [
    "ruta_denue_csv = \"input_data/denue.csv\"\n",
    "try:\n",
    "    df = pd.read_csv(ruta_denue_csv, encoding=\"utf-8\")\n",
    "except UnicodeDecodeError:\n",
    "    df = pd.read_csv(ruta_denue_csv, encoding=\"latin1\")\n",
    "df.head()"
   ]
  },
  {
   "cell_type": "code",
   "execution_count": 4,
   "id": "831f850e-c35c-4578-9656-074975a1c125",
   "metadata": {
    "id": "831f850e-c35c-4578-9656-074975a1c125"
   },
   "outputs": [],
   "source": [
    "df_limpio = df[[\"codigo_act\", \"latitud\", \"longitud\"]].copy()\n",
    "df_limpio[\"codigo_act\"] = df_limpio[\"codigo_act\"].astype(str).str[:2]"
   ]
  },
  {
   "cell_type": "code",
   "execution_count": 5,
   "id": "aea431fe-2ade-4a6f-85b9-eda98c692e66",
   "metadata": {
    "id": "aea431fe-2ade-4a6f-85b9-eda98c692e66",
    "outputId": "b9fc5a79-668d-4d81-b59a-ccb2aa655db2"
   },
   "outputs": [
    {
     "name": "stdout",
     "output_type": "stream",
     "text": [
      "Valores nulos por columna:\n"
     ]
    },
    {
     "data": {
      "text/plain": [
       "codigo_act    0\n",
       "latitud       0\n",
       "longitud      0\n",
       "dtype: int64"
      ]
     },
     "execution_count": 5,
     "metadata": {},
     "output_type": "execute_result"
    }
   ],
   "source": [
    "print(\"Valores nulos por columna:\")\n",
    "df_limpio.isnull().sum()"
   ]
  },
  {
   "cell_type": "code",
   "execution_count": 6,
   "id": "8f85913a-2fb2-48f3-91db-0e278982cbef",
   "metadata": {
    "id": "8f85913a-2fb2-48f3-91db-0e278982cbef",
    "outputId": "895298d6-c472-471b-9503-a5c196b0c08a"
   },
   "outputs": [
    {
     "data": {
      "text/plain": [
       "codigo_act     object\n",
       "latitud       float64\n",
       "longitud      float64\n",
       "dtype: object"
      ]
     },
     "execution_count": 6,
     "metadata": {},
     "output_type": "execute_result"
    }
   ],
   "source": [
    "df_limpio.dtypes"
   ]
  },
  {
   "cell_type": "code",
   "execution_count": 7,
   "id": "d4e68b84-7e23-4923-afec-4e2f51cf605f",
   "metadata": {},
   "outputs": [],
   "source": [
    "ruta_landsat_tiff = \"input_data/imagen.tif\""
   ]
  },
  {
   "cell_type": "code",
   "execution_count": 8,
   "id": "49deb1a4-e64e-46ca-8394-39e8f6230aa0",
   "metadata": {
    "id": "49deb1a4-e64e-46ca-8394-39e8f6230aa0"
   },
   "outputs": [],
   "source": [
    "with rasterio.open(ruta_landsat_tiff) as src:\n",
    "    srs_raster = src.crs.to_proj4()"
   ]
  },
  {
   "cell_type": "code",
   "execution_count": 9,
   "id": "0a3ff900-2961-446f-b0bb-2a0efaed9e4c",
   "metadata": {
    "id": "0a3ff900-2961-446f-b0bb-2a0efaed9e4c",
    "outputId": "f3f70d68-fb80-4b30-c5cf-7332f90d3edf"
   },
   "outputs": [
    {
     "data": {
      "text/html": [
       "<div>\n",
       "<style scoped>\n",
       "    .dataframe tbody tr th:only-of-type {\n",
       "        vertical-align: middle;\n",
       "    }\n",
       "\n",
       "    .dataframe tbody tr th {\n",
       "        vertical-align: top;\n",
       "    }\n",
       "\n",
       "    .dataframe thead th {\n",
       "        text-align: right;\n",
       "    }\n",
       "</style>\n",
       "<table border=\"1\" class=\"dataframe\">\n",
       "  <thead>\n",
       "    <tr style=\"text-align: right;\">\n",
       "      <th></th>\n",
       "      <th>codigo_act</th>\n",
       "      <th>latitud</th>\n",
       "      <th>longitud</th>\n",
       "      <th>geometry</th>\n",
       "      <th>geometry2</th>\n",
       "    </tr>\n",
       "  </thead>\n",
       "  <tbody>\n",
       "    <tr>\n",
       "      <th>0</th>\n",
       "      <td>11</td>\n",
       "      <td>21.906992</td>\n",
       "      <td>-102.309807</td>\n",
       "      <td>POINT (-102.30981 21.90699)</td>\n",
       "      <td>POINT (2468147.992 1094190.873)</td>\n",
       "    </tr>\n",
       "    <tr>\n",
       "      <th>1</th>\n",
       "      <td>11</td>\n",
       "      <td>21.889926</td>\n",
       "      <td>-102.314009</td>\n",
       "      <td>POINT (-102.31401 21.88993)</td>\n",
       "      <td>POINT (2467711.796 1092292.619)</td>\n",
       "    </tr>\n",
       "    <tr>\n",
       "      <th>2</th>\n",
       "      <td>11</td>\n",
       "      <td>22.167778</td>\n",
       "      <td>-102.345556</td>\n",
       "      <td>POINT (-102.34556 22.16778)</td>\n",
       "      <td>POINT (2464542.021 1123223.156)</td>\n",
       "    </tr>\n",
       "    <tr>\n",
       "      <th>3</th>\n",
       "      <td>11</td>\n",
       "      <td>21.956298</td>\n",
       "      <td>-101.997312</td>\n",
       "      <td>POINT (-101.99731 21.95630)</td>\n",
       "      <td>POINT (2500276.264 1099643.835)</td>\n",
       "    </tr>\n",
       "    <tr>\n",
       "      <th>4</th>\n",
       "      <td>11</td>\n",
       "      <td>21.837255</td>\n",
       "      <td>-102.710931</td>\n",
       "      <td>POINT (-102.71093 21.83725)</td>\n",
       "      <td>POINT (2426869.540 1086576.086)</td>\n",
       "    </tr>\n",
       "  </tbody>\n",
       "</table>\n",
       "</div>"
      ],
      "text/plain": [
       "  codigo_act    latitud    longitud                     geometry  \\\n",
       "0         11  21.906992 -102.309807  POINT (-102.30981 21.90699)   \n",
       "1         11  21.889926 -102.314009  POINT (-102.31401 21.88993)   \n",
       "2         11  22.167778 -102.345556  POINT (-102.34556 22.16778)   \n",
       "3         11  21.956298 -101.997312  POINT (-101.99731 21.95630)   \n",
       "4         11  21.837255 -102.710931  POINT (-102.71093 21.83725)   \n",
       "\n",
       "                         geometry2  \n",
       "0  POINT (2468147.992 1094190.873)  \n",
       "1  POINT (2467711.796 1092292.619)  \n",
       "2  POINT (2464542.021 1123223.156)  \n",
       "3  POINT (2500276.264 1099643.835)  \n",
       "4  POINT (2426869.540 1086576.086)  "
      ]
     },
     "execution_count": 9,
     "metadata": {},
     "output_type": "execute_result"
    }
   ],
   "source": [
    "# Crear columna \"geometry\" utilizando latitud y longitud\n",
    "df_limpio[\"geometry\"] = [Point(xy) for xy in zip(df_limpio[\"longitud\"], df_limpio[\"latitud\"])]\n",
    "\n",
    "# Convertir el DataFrame de pandas en un GeoDataFrame de GeoPandas\n",
    "gdf = gpd.GeoDataFrame(df_limpio, geometry=\"geometry\")\n",
    "srs_gdf = \"+proj=longlat +ellps=WGS84 +datum=WGS84 +no_defs\"\n",
    "transformador = Transformer.from_proj(Proj(srs_gdf), Proj(srs_raster))\n",
    "gdf[\"geometry2\"] = gdf[\"geometry\"].apply(lambda geom: Point(transformador.transform(geom.x, geom.y)))\n",
    "gdf.head()"
   ]
  },
  {
   "cell_type": "code",
   "execution_count": 10,
   "id": "60e72c95-0e88-46d4-8061-7264919e9635",
   "metadata": {
    "id": "60e72c95-0e88-46d4-8061-7264919e9635"
   },
   "outputs": [],
   "source": [
    "# Abre el archivo GeoTIFF con rasterio\n",
    "with rasterio.open(ruta_landsat_tiff) as src:\n",
    "    # Itera sobre los puntos del GeoDataFrame y obtiene los valores de los pixeles correspondientes\n",
    "    for index, row in gdf.iterrows():\n",
    "        gdf.loc[index, [\"col_pixel\", \"row_pixel\"]] = src.index(row[\"geometry2\"].x, row[\"geometry2\"].y)\n"
   ]
  },
  {
   "cell_type": "code",
   "execution_count": 11,
   "id": "bacc487c-6204-4250-b826-aa8459e4dfbb",
   "metadata": {
    "id": "bacc487c-6204-4250-b826-aa8459e4dfbb",
    "outputId": "12b03917-d1fc-499c-fa8e-8581364ae3a6"
   },
   "outputs": [
    {
     "data": {
      "text/html": [
       "<div>\n",
       "<style scoped>\n",
       "    .dataframe tbody tr th:only-of-type {\n",
       "        vertical-align: middle;\n",
       "    }\n",
       "\n",
       "    .dataframe tbody tr th {\n",
       "        vertical-align: top;\n",
       "    }\n",
       "\n",
       "    .dataframe thead th {\n",
       "        text-align: right;\n",
       "    }\n",
       "</style>\n",
       "<table border=\"1\" class=\"dataframe\">\n",
       "  <thead>\n",
       "    <tr style=\"text-align: right;\">\n",
       "      <th></th>\n",
       "      <th>codigo_act</th>\n",
       "      <th>latitud</th>\n",
       "      <th>longitud</th>\n",
       "      <th>geometry</th>\n",
       "      <th>geometry2</th>\n",
       "      <th>col_pixel</th>\n",
       "      <th>row_pixel</th>\n",
       "    </tr>\n",
       "  </thead>\n",
       "  <tbody>\n",
       "    <tr>\n",
       "      <th>0</th>\n",
       "      <td>11</td>\n",
       "      <td>21.906992</td>\n",
       "      <td>-102.309807</td>\n",
       "      <td>POINT (-102.30981 21.90699)</td>\n",
       "      <td>POINT (2468147.992 1094190.873)</td>\n",
       "      <td>3526.0</td>\n",
       "      <td>2271.0</td>\n",
       "    </tr>\n",
       "    <tr>\n",
       "      <th>1</th>\n",
       "      <td>11</td>\n",
       "      <td>21.889926</td>\n",
       "      <td>-102.314009</td>\n",
       "      <td>POINT (-102.31401 21.88993)</td>\n",
       "      <td>POINT (2467711.796 1092292.619)</td>\n",
       "      <td>3590.0</td>\n",
       "      <td>2257.0</td>\n",
       "    </tr>\n",
       "    <tr>\n",
       "      <th>2</th>\n",
       "      <td>11</td>\n",
       "      <td>22.167778</td>\n",
       "      <td>-102.345556</td>\n",
       "      <td>POINT (-102.34556 22.16778)</td>\n",
       "      <td>POINT (2464542.021 1123223.156)</td>\n",
       "      <td>2559.0</td>\n",
       "      <td>2151.0</td>\n",
       "    </tr>\n",
       "    <tr>\n",
       "      <th>3</th>\n",
       "      <td>11</td>\n",
       "      <td>21.956298</td>\n",
       "      <td>-101.997312</td>\n",
       "      <td>POINT (-101.99731 21.95630)</td>\n",
       "      <td>POINT (2500276.264 1099643.835)</td>\n",
       "      <td>3345.0</td>\n",
       "      <td>3342.0</td>\n",
       "    </tr>\n",
       "    <tr>\n",
       "      <th>4</th>\n",
       "      <td>11</td>\n",
       "      <td>21.837255</td>\n",
       "      <td>-102.710931</td>\n",
       "      <td>POINT (-102.71093 21.83725)</td>\n",
       "      <td>POINT (2426869.540 1086576.086)</td>\n",
       "      <td>3780.0</td>\n",
       "      <td>895.0</td>\n",
       "    </tr>\n",
       "    <tr>\n",
       "      <th>...</th>\n",
       "      <td>...</td>\n",
       "      <td>...</td>\n",
       "      <td>...</td>\n",
       "      <td>...</td>\n",
       "      <td>...</td>\n",
       "      <td>...</td>\n",
       "      <td>...</td>\n",
       "    </tr>\n",
       "    <tr>\n",
       "      <th>61641</th>\n",
       "      <td>93</td>\n",
       "      <td>21.875367</td>\n",
       "      <td>-102.279581</td>\n",
       "      <td>POINT (-102.27958 21.87537)</td>\n",
       "      <td>POINT (2471248.754 1090665.178)</td>\n",
       "      <td>3644.0</td>\n",
       "      <td>2374.0</td>\n",
       "    </tr>\n",
       "    <tr>\n",
       "      <th>61642</th>\n",
       "      <td>93</td>\n",
       "      <td>21.865938</td>\n",
       "      <td>-102.289821</td>\n",
       "      <td>POINT (-102.28982 21.86594)</td>\n",
       "      <td>POINT (2470193.605 1089617.948)</td>\n",
       "      <td>3679.0</td>\n",
       "      <td>2339.0</td>\n",
       "    </tr>\n",
       "    <tr>\n",
       "      <th>61643</th>\n",
       "      <td>93</td>\n",
       "      <td>21.919051</td>\n",
       "      <td>-101.959755</td>\n",
       "      <td>POINT (-101.95976 21.91905)</td>\n",
       "      <td>POINT (2504137.271 1095499.347)</td>\n",
       "      <td>3483.0</td>\n",
       "      <td>3471.0</td>\n",
       "    </tr>\n",
       "    <tr>\n",
       "      <th>61644</th>\n",
       "      <td>93</td>\n",
       "      <td>21.893411</td>\n",
       "      <td>-102.323357</td>\n",
       "      <td>POINT (-102.32336 21.89341)</td>\n",
       "      <td>POINT (2466751.468 1092682.561)</td>\n",
       "      <td>3577.0</td>\n",
       "      <td>2225.0</td>\n",
       "    </tr>\n",
       "    <tr>\n",
       "      <th>61645</th>\n",
       "      <td>93</td>\n",
       "      <td>21.875196</td>\n",
       "      <td>-102.281411</td>\n",
       "      <td>POINT (-102.28141 21.87520)</td>\n",
       "      <td>POINT (2471060.526 1090646.524)</td>\n",
       "      <td>3645.0</td>\n",
       "      <td>2368.0</td>\n",
       "    </tr>\n",
       "  </tbody>\n",
       "</table>\n",
       "<p>61646 rows × 7 columns</p>\n",
       "</div>"
      ],
      "text/plain": [
       "      codigo_act    latitud    longitud                     geometry  \\\n",
       "0             11  21.906992 -102.309807  POINT (-102.30981 21.90699)   \n",
       "1             11  21.889926 -102.314009  POINT (-102.31401 21.88993)   \n",
       "2             11  22.167778 -102.345556  POINT (-102.34556 22.16778)   \n",
       "3             11  21.956298 -101.997312  POINT (-101.99731 21.95630)   \n",
       "4             11  21.837255 -102.710931  POINT (-102.71093 21.83725)   \n",
       "...          ...        ...         ...                          ...   \n",
       "61641         93  21.875367 -102.279581  POINT (-102.27958 21.87537)   \n",
       "61642         93  21.865938 -102.289821  POINT (-102.28982 21.86594)   \n",
       "61643         93  21.919051 -101.959755  POINT (-101.95976 21.91905)   \n",
       "61644         93  21.893411 -102.323357  POINT (-102.32336 21.89341)   \n",
       "61645         93  21.875196 -102.281411  POINT (-102.28141 21.87520)   \n",
       "\n",
       "                             geometry2  col_pixel  row_pixel  \n",
       "0      POINT (2468147.992 1094190.873)     3526.0     2271.0  \n",
       "1      POINT (2467711.796 1092292.619)     3590.0     2257.0  \n",
       "2      POINT (2464542.021 1123223.156)     2559.0     2151.0  \n",
       "3      POINT (2500276.264 1099643.835)     3345.0     3342.0  \n",
       "4      POINT (2426869.540 1086576.086)     3780.0      895.0  \n",
       "...                                ...        ...        ...  \n",
       "61641  POINT (2471248.754 1090665.178)     3644.0     2374.0  \n",
       "61642  POINT (2470193.605 1089617.948)     3679.0     2339.0  \n",
       "61643  POINT (2504137.271 1095499.347)     3483.0     3471.0  \n",
       "61644  POINT (2466751.468 1092682.561)     3577.0     2225.0  \n",
       "61645  POINT (2471060.526 1090646.524)     3645.0     2368.0  \n",
       "\n",
       "[61646 rows x 7 columns]"
      ]
     },
     "execution_count": 11,
     "metadata": {},
     "output_type": "execute_result"
    }
   ],
   "source": [
    "gdf"
   ]
  },
  {
   "cell_type": "code",
   "execution_count": 12,
   "id": "cc38517d-df9c-4c9e-bf08-2a0bd39d4b9f",
   "metadata": {
    "id": "cc38517d-df9c-4c9e-bf08-2a0bd39d4b9f",
    "outputId": "6e09a0a0-d31e-4feb-ba5e-fcdf3b746347"
   },
   "outputs": [
    {
     "data": {
      "text/plain": [
       "(61646, 7)"
      ]
     },
     "execution_count": 12,
     "metadata": {},
     "output_type": "execute_result"
    }
   ],
   "source": [
    "gdf.shape"
   ]
  },
  {
   "cell_type": "markdown",
   "id": "5e966c35-2673-4d96-bf05-f7476eb33f13",
   "metadata": {
    "id": "5e966c35-2673-4d96-bf05-f7476eb33f13"
   },
   "source": [
    "## Obtener recortes de 5, 3 y 1 pixeles\n",
    "### Fast"
   ]
  },
  {
   "cell_type": "code",
   "execution_count": 13,
   "id": "02537e62-f3d7-45c6-9bcb-c569e399b223",
   "metadata": {
    "id": "02537e62-f3d7-45c6-9bcb-c569e399b223",
    "outputId": "dd696870-1bf5-42a5-d7d0-cf542b593a98"
   },
   "outputs": [
    {
     "data": {
      "text/plain": [
       "(61646, 1, 1, 6)"
      ]
     },
     "execution_count": 13,
     "metadata": {},
     "output_type": "execute_result"
    }
   ],
   "source": [
    "_1p = np.empty([gdf.shape[0], 1,1,6])\n",
    "_1p.shape"
   ]
  },
  {
   "cell_type": "code",
   "execution_count": 14,
   "id": "de27f1be-6059-4cab-8b7a-9b8ba2c9b9fb",
   "metadata": {
    "id": "de27f1be-6059-4cab-8b7a-9b8ba2c9b9fb"
   },
   "outputs": [],
   "source": [
    "_3p = np.empty([gdf.shape[0], 3,3,6])\n",
    "_5p = np.empty([gdf.shape[0], 5,5,6])"
   ]
  },
  {
   "cell_type": "code",
   "execution_count": 15,
   "id": "1d7b616f-d49a-4dab-88bd-24ed5175cf38",
   "metadata": {
    "id": "1d7b616f-d49a-4dab-88bd-24ed5175cf38"
   },
   "outputs": [],
   "source": [
    "with rasterio.open(ruta_landsat_tiff) as src:\n",
    "    for index, gdf_row in gdf.iterrows():\n",
    "        row, col = gdf_row.row_pixel, gdf_row.col_pixel\n",
    "        # 5 Pixels\n",
    "        for sub_row in range(0, 5):\n",
    "            for sub_col in range(0, 5):\n",
    "                _5p[index][sub_row][sub_col] = src.read(\n",
    "                    window=((row + (sub_row -2), row + (sub_row -1)),\n",
    "                            (col + (sub_col -2), col + (sub_col -1)))\n",
    "                ).reshape(_5p.shape[-1:])"
   ]
  },
  {
   "cell_type": "code",
   "execution_count": 16,
   "id": "d0ae281e-969b-4008-8480-685c2fc50055",
   "metadata": {
    "id": "d0ae281e-969b-4008-8480-685c2fc50055"
   },
   "outputs": [],
   "source": [
    "_3p = _5p[:,1:4,1:4,:]"
   ]
  },
  {
   "cell_type": "code",
   "execution_count": 17,
   "id": "f045485a-8458-49ce-801f-0ae85b6dae7a",
   "metadata": {
    "id": "f045485a-8458-49ce-801f-0ae85b6dae7a"
   },
   "outputs": [],
   "source": [
    "_1p = _3p[:,1,1,:]"
   ]
  },
  {
   "cell_type": "markdown",
   "id": "99da20a7-bffa-4c51-b52d-e82b2e984784",
   "metadata": {
    "id": "99da20a7-bffa-4c51-b52d-e82b2e984784"
   },
   "source": [
    "### Slow"
   ]
  },
  {
   "cell_type": "code",
   "execution_count": null,
   "id": "bbcdf991-dc74-4577-b59e-26a2ffe9dcf5",
   "metadata": {
    "id": "bbcdf991-dc74-4577-b59e-26a2ffe9dcf5"
   },
   "outputs": [],
   "source": [
    "with rasterio.open(ruta_landsat_tiff) as src:\n",
    "    for index, gdf_row in gdf.iterrows():\n",
    "\n",
    "        row, col = gdf_row.row_pixel, gdf_row.col_pixel\n",
    "        _1p[index] = src.read(\n",
    "            window=((row, row+1),(col, col+1))\n",
    "        ).reshape(_1p.shape[1:])\n",
    "\n",
    "        # 3 Pixels\n",
    "        for sub_row in range(0, 3):\n",
    "            for sub_col in range(0, 3):\n",
    "                _3p[index][sub_row][sub_col] = src.read(\n",
    "                    window=((row + (sub_row -1), row + sub_row),\n",
    "                            (col + (sub_col -1), col + sub_col ))\n",
    "                ).reshape(_3p.shape[-1:])\n",
    "\n",
    "\n",
    "        # 5 Pixels\n",
    "        for sub_row in range(0, 5):\n",
    "            for sub_col in range(0, 5):\n",
    "                _5p[index][sub_row][sub_col] = src.read(\n",
    "                    window=((row + (sub_row -2), row + (sub_row -1)),\n",
    "                            (col + (sub_col -2), col + (sub_col -1)))\n",
    "                ).reshape(_5p.shape[-1:])"
   ]
  },
  {
   "cell_type": "markdown",
   "id": "6e9d543d-045a-4bdd-aaed-d0f007ffe01d",
   "metadata": {
    "id": "6e9d543d-045a-4bdd-aaed-d0f007ffe01d"
   },
   "source": [
    "## Preparar labels"
   ]
  },
  {
   "cell_type": "code",
   "execution_count": 18,
   "id": "883fa67a-bf89-4d9d-9db9-9dee2216b029",
   "metadata": {
    "id": "883fa67a-bf89-4d9d-9db9-9dee2216b029"
   },
   "outputs": [],
   "source": [
    "all_labels = gdf[\"codigo_act\"].astype(int)"
   ]
  },
  {
   "cell_type": "code",
   "execution_count": 19,
   "id": "1f0cae7a-e273-4e36-a1d7-1cc04b0879f9",
   "metadata": {
    "id": "1f0cae7a-e273-4e36-a1d7-1cc04b0879f9",
    "outputId": "fea2a938-0c83-4ab1-f09e-4f5147d0d161"
   },
   "outputs": [
    {
     "data": {
      "text/plain": [
       "0        11\n",
       "1        11\n",
       "2        11\n",
       "3        11\n",
       "4        11\n",
       "         ..\n",
       "61641    93\n",
       "61642    93\n",
       "61643    93\n",
       "61644    93\n",
       "61645    93\n",
       "Name: codigo_act, Length: 61646, dtype: int64"
      ]
     },
     "execution_count": 19,
     "metadata": {},
     "output_type": "execute_result"
    }
   ],
   "source": [
    "all_labels"
   ]
  },
  {
   "cell_type": "code",
   "execution_count": 20,
   "id": "8c73147d-576b-428c-9dda-2807d3b4a326",
   "metadata": {
    "id": "8c73147d-576b-428c-9dda-2807d3b4a326",
    "outputId": "cebd361b-d736-4935-e0e4-f3233d41216b"
   },
   "outputs": [
    {
     "data": {
      "text/plain": [
       "dtype('int64')"
      ]
     },
     "execution_count": 20,
     "metadata": {},
     "output_type": "execute_result"
    }
   ],
   "source": [
    "all_labels.dtypes"
   ]
  },
  {
   "cell_type": "markdown",
   "id": "158fe4f6-f16d-4b7e-83b1-1ddfb93689bc",
   "metadata": {
    "id": "158fe4f6-f16d-4b7e-83b1-1ddfb93689bc"
   },
   "source": [
    "## Generar modelo"
   ]
  },
  {
   "cell_type": "code",
   "execution_count": 21,
   "id": "c7e4cbe8-913a-41e4-b4a6-3c54c92cf247",
   "metadata": {
    "id": "c7e4cbe8-913a-41e4-b4a6-3c54c92cf247",
    "outputId": "71087012-f7e1-44e9-bf44-812c0d18548f"
   },
   "outputs": [
    {
     "name": "stderr",
     "output_type": "stream",
     "text": [
      "2023-12-11 06:13:34.571286: I tensorflow/core/util/port.cc:113] oneDNN custom operations are on. You may see slightly different numerical results due to floating-point round-off errors from different computation orders. To turn them off, set the environment variable `TF_ENABLE_ONEDNN_OPTS=0`.\n",
      "2023-12-11 06:13:34.594853: E external/local_xla/xla/stream_executor/cuda/cuda_dnn.cc:9261] Unable to register cuDNN factory: Attempting to register factory for plugin cuDNN when one has already been registered\n",
      "2023-12-11 06:13:34.594882: E external/local_xla/xla/stream_executor/cuda/cuda_fft.cc:607] Unable to register cuFFT factory: Attempting to register factory for plugin cuFFT when one has already been registered\n",
      "2023-12-11 06:13:34.595594: E external/local_xla/xla/stream_executor/cuda/cuda_blas.cc:1515] Unable to register cuBLAS factory: Attempting to register factory for plugin cuBLAS when one has already been registered\n",
      "2023-12-11 06:13:34.600469: I tensorflow/core/platform/cpu_feature_guard.cc:182] This TensorFlow binary is optimized to use available CPU instructions in performance-critical operations.\n",
      "To enable the following instructions: AVX2 AVX_VNNI FMA, in other operations, rebuild TensorFlow with the appropriate compiler flags.\n"
     ]
    }
   ],
   "source": [
    "from tensorflow.keras.models import Sequential\n",
    "from tensorflow.keras.layers import Conv2D, MaxPooling2D, Flatten, Dense\n",
    "from tensorflow.keras.optimizers import Adam"
   ]
  },
  {
   "cell_type": "code",
   "execution_count": 22,
   "id": "31a10252-401c-41d0-a94b-094302ae6bb5",
   "metadata": {
    "id": "31a10252-401c-41d0-a94b-094302ae6bb5",
    "outputId": "9647e201-755a-44cb-9e0f-da3d03d5cd4b"
   },
   "outputs": [
    {
     "name": "stdout",
     "output_type": "stream",
     "text": [
      "Epoch 1/10\n"
     ]
    },
    {
     "name": "stderr",
     "output_type": "stream",
     "text": [
      "2023-12-11 06:14:32.765711: E external/local_xla/xla/stream_executor/cuda/cuda_driver.cc:274] failed call to cuInit: UNKNOWN ERROR (34)\n"
     ]
    },
    {
     "name": "stdout",
     "output_type": "stream",
     "text": [
      "1542/1542 [==============================] - 133s 86ms/step - loss: 5.2179 - accuracy: 0.4074 - val_loss: 24.2121 - val_accuracy: 2.4331e-04\n",
      "Epoch 2/10\n",
      "1542/1542 [==============================] - 135s 87ms/step - loss: 2.0790 - accuracy: 0.4608 - val_loss: 37.4879 - val_accuracy: 0.0000e+00\n",
      "Epoch 3/10\n",
      "1542/1542 [==============================] - 126s 82ms/step - loss: 2.0667 - accuracy: 0.4619 - val_loss: 26.9447 - val_accuracy: 0.0000e+00\n",
      "Epoch 4/10\n",
      "1542/1542 [==============================] - 133s 87ms/step - loss: 2.2207 - accuracy: 0.4578 - val_loss: 33.4966 - val_accuracy: 0.0000e+00\n",
      "Epoch 5/10\n",
      "1542/1542 [==============================] - 133s 86ms/step - loss: 2.0297 - accuracy: 0.4624 - val_loss: 33.7139 - val_accuracy: 0.0000e+00\n",
      "Epoch 6/10\n",
      "1542/1542 [==============================] - 133s 86ms/step - loss: 2.0310 - accuracy: 0.4624 - val_loss: 29.6375 - val_accuracy: 0.0000e+00\n",
      "Epoch 7/10\n",
      "1542/1542 [==============================] - 133s 86ms/step - loss: 2.0511 - accuracy: 0.4615 - val_loss: 34.6701 - val_accuracy: 0.0000e+00\n",
      "Epoch 8/10\n",
      "1542/1542 [==============================] - 132s 86ms/step - loss: 2.0340 - accuracy: 0.4624 - val_loss: 17.7020 - val_accuracy: 0.0000e+00\n",
      "Epoch 9/10\n",
      "1542/1542 [==============================] - 130s 84ms/step - loss: 2.1904 - accuracy: 0.4555 - val_loss: 143.1008 - val_accuracy: 0.0000e+00\n",
      "Epoch 10/10\n",
      "1542/1542 [==============================] - 132s 86ms/step - loss: 2.0225 - accuracy: 0.4624 - val_loss: 47.4479 - val_accuracy: 0.0000e+00\n",
      "1927/1927 [==============================] - 32s 16ms/step - loss: 11.1010 - accuracy: 0.3699\n",
      "Loss: 11.101049423217773, Accuracy: 0.3698861300945282\n"
     ]
    }
   ],
   "source": [
    "# Crear el modelo de Deep Learning\n",
    "model = Sequential()\n",
    "model.add(Conv2D(32, (3, 3), activation='relu', input_shape=(3, 3, 6)))\n",
    "#model.add(MaxPooling2D((2, 2)))\n",
    "model.add(Flatten())\n",
    "model.add(Dense(128, activation='relu'))\n",
    "model.add(Dense(len(all_labels), activation='softmax'))\n",
    "\n",
    "# Compilar el modelo\n",
    "model.compile(optimizer=Adam(), loss='sparse_categorical_crossentropy', metrics=['accuracy'])\n",
    "\n",
    "# Entrenar el modelo\n",
    "model.fit(_3p, all_labels, epochs=10, batch_size=32, validation_split=0.2)\n",
    "\n",
    "# Evaluar el modelo\n",
    "loss, accuracy = model.evaluate(_3p, all_labels)\n",
    "print(f'Loss: {loss}, Accuracy: {accuracy}')\n"
   ]
  },
  {
   "cell_type": "markdown",
   "id": "0d9361c5-9924-4860-bc7e-1c2ea5610344",
   "metadata": {
    "id": "0d9361c5-9924-4860-bc7e-1c2ea5610344"
   },
   "source": [
    "## Guardar modelo"
   ]
  },
  {
   "cell_type": "code",
   "execution_count": 23,
   "id": "00cf3b8b-d815-49e3-b8dd-704895c01b78",
   "metadata": {
    "id": "00cf3b8b-d815-49e3-b8dd-704895c01b78"
   },
   "outputs": [],
   "source": [
    "# Guardar modelo para realizar predicciones sin volver a entrenar\n",
    "model.save('output_model/geo_recortes.keras')"
   ]
  },
  {
   "cell_type": "markdown",
   "id": "b615436d-6de2-4d34-b1f7-d2b4861c2bbe",
   "metadata": {
    "id": "b615436d-6de2-4d34-b1f7-d2b4861c2bbe"
   },
   "source": [
    "# Pendientes (Modelo) (Andrea, Andres)\n",
    "- [ ] Ajustar modelo (parametros e hiperparametros)\n",
    "- [ ] Train, test, validation splits\n",
    "- [ ] Normalizar datos\n",
    "- [ ] Generar gráficas de resultado de entrenamiento\n",
    "- [ ] Integrar MLFlow? (comparar con recorte de 5 pixeles y 1 pixel)\n",
    "- [ ] Verficar que calculo de recortes \"rápido\" es correcto\n",
    "- [ ] Quitar números mágicos de este código\n",
    "\n",
    "\n",
    "# Pendientes Api (flask)\n",
    "- [ ] Reutilizar código para transformar lat, lon en recorte (Mitsiu)\n",
    "- [ ] Cargar modelo (Mitsiu)\n",
    "<code>\n",
    "new_model = keras.models.load_model('geo_recortes.keras')\n",
    "new_model.predict(new_data_from_flutter)\n",
    "</code>\n",
    "- [ ] Validaciónes (lat,lon dentro imágen )\n",
    "- [ ] Integrar \"SCIAN_2023124_141359987.xlsx\" (ref notebook de Andrea) para mostrar labels entendibles\n",
    "\n",
    "# Pendientes Front (flutter)\n",
    "- [ ] Definir método (http) y parametros de comunicación con api y realizar petición - GET\n",
    "- [ ] Mostrar resultados de predicción"
   ]
  },
  {
   "cell_type": "code",
   "execution_count": null,
   "id": "a508bf34-7ba2-45ab-bf09-e2feb6c57450",
   "metadata": {
    "id": "a508bf34-7ba2-45ab-bf09-e2feb6c57450"
   },
   "outputs": [],
   "source": []
  }
 ],
 "metadata": {
  "colab": {
   "provenance": []
  },
  "kernelspec": {
   "display_name": "Python 3 (ipykernel)",
   "language": "python",
   "name": "python3"
  },
  "language_info": {
   "codemirror_mode": {
    "name": "ipython",
    "version": 3
   },
   "file_extension": ".py",
   "mimetype": "text/x-python",
   "name": "python",
   "nbconvert_exporter": "python",
   "pygments_lexer": "ipython3",
   "version": "3.11.0rc1"
  }
 },
 "nbformat": 4,
 "nbformat_minor": 5
}
