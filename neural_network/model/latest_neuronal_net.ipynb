{
 "cells": [
  {
   "cell_type": "code",
   "execution_count": null,
   "id": "b823a219",
   "metadata": {},
   "outputs": [],
   "source": [
    "! pip install geopandas shapely rasterio Pillow imgaug "
   ]
  },
  {
   "cell_type": "code",
   "execution_count": 1,
   "id": "ee2593dc",
   "metadata": {},
   "outputs": [
    {
     "name": "stderr",
     "output_type": "stream",
     "text": [
      "2023-12-15 05:37:14.995651: I tensorflow/core/util/port.cc:113] oneDNN custom operations are on. You may see slightly different numerical results due to floating-point round-off errors from different computation orders. To turn them off, set the environment variable `TF_ENABLE_ONEDNN_OPTS=0`.\n",
      "2023-12-15 05:37:15.023009: E external/local_xla/xla/stream_executor/cuda/cuda_dnn.cc:9261] Unable to register cuDNN factory: Attempting to register factory for plugin cuDNN when one has already been registered\n",
      "2023-12-15 05:37:15.023034: E external/local_xla/xla/stream_executor/cuda/cuda_fft.cc:607] Unable to register cuFFT factory: Attempting to register factory for plugin cuFFT when one has already been registered\n",
      "2023-12-15 05:37:15.023742: E external/local_xla/xla/stream_executor/cuda/cuda_blas.cc:1515] Unable to register cuBLAS factory: Attempting to register factory for plugin cuBLAS when one has already been registered\n",
      "2023-12-15 05:37:15.028345: I tensorflow/core/platform/cpu_feature_guard.cc:182] This TensorFlow binary is optimized to use available CPU instructions in performance-critical operations.\n",
      "To enable the following instructions: AVX2 AVX_VNNI FMA, in other operations, rebuild TensorFlow with the appropriate compiler flags.\n"
     ]
    }
   ],
   "source": [
    "import numpy as np\n",
    "import pandas as pd\n",
    "import geopandas as gpd\n",
    "import rasterio\n",
    "from rasterio.plot import show\n",
    "from PIL import Image\n",
    "import random\n",
    "from pyproj import Proj, transform, Transformer\n",
    "from sklearn.preprocessing import MinMaxScaler, StandardScaler, OneHotEncoder, LabelEncoder\n",
    "from sklearn.model_selection import train_test_split\n",
    "from sklearn.compose import ColumnTransformer\n",
    "from sklearn.pipeline import Pipeline\n",
    "from imblearn.over_sampling import SMOTE\n",
    "from tensorflow.keras.models import Sequential\n",
    "from tensorflow.keras.layers import Input, Dense, Conv2D, Flatten, concatenate, Concatenate\n",
    "from tensorflow.keras.utils import to_categorical\n",
    "from keras.optimizers import Adam\n",
    "import tensorflow as tf\n",
    "import matplotlib.pyplot as plt\n",
    "from shapely.geometry import Point\n",
    "from sklearn.neighbors import NearestNeighbors"
   ]
  },
  {
   "cell_type": "markdown",
   "id": "0d200734",
   "metadata": {},
   "source": [
    "# Preparación de datos"
   ]
  },
  {
   "cell_type": "code",
   "execution_count": 2,
   "id": "afd84261",
   "metadata": {},
   "outputs": [],
   "source": [
    "ruta_tiff = \"input_data/imagen.tif\"\n",
    "\n",
    "with rasterio.open(ruta_tiff) as src:\n",
    "    srs_raster = src.crs.to_proj4()"
   ]
  },
  {
   "cell_type": "code",
   "execution_count": 3,
   "id": "b6728a2c",
   "metadata": {},
   "outputs": [
    {
     "name": "stderr",
     "output_type": "stream",
     "text": [
      "/tmp/ipykernel_891/1166926641.py:6: DtypeWarning: Columns (35) have mixed types. Specify dtype option on import or set low_memory=False.\n",
      "  df = pd.read_csv(ruta_csv, encoding='latin1')\n"
     ]
    }
   ],
   "source": [
    "ruta_csv = \"input_data/denue.csv\"\n",
    "try:\n",
    "    df = pd.read_csv(ruta_csv, encoding='utf-8')\n",
    "except UnicodeDecodeError:\n",
    "    # If 'utf-8' fails, try 'latin1' encoding\n",
    "    df = pd.read_csv(ruta_csv, encoding='latin1')"
   ]
  },
  {
   "cell_type": "code",
   "execution_count": 4,
   "id": "b2172439",
   "metadata": {},
   "outputs": [],
   "source": [
    "# Selecciona las columnas deseadas\n",
    "df_limpio = df[[\"codigo_act\", \"per_ocu\", \"latitud\", \"longitud\"]].copy()\n",
    "df_limpio[\"codigo_act\"] = df_limpio[\"codigo_act\"].astype(str).str.slice(0, 2)\n",
    "df_limpio[\"codigo_act\"] = df_limpio[\"codigo_act\"].astype(float)\n",
    "# Reemplaza los valores 32 y 33 por 31\n",
    "df_limpio['codigo_act'].replace({32: 31, 33: 31}, inplace=True)\n",
    "\n",
    "# Reemplaza el valor 49 por 48\n",
    "df_limpio['codigo_act'].replace({49: 48}, inplace=True)"
   ]
  },
  {
   "cell_type": "code",
   "execution_count": 5,
   "id": "a4350778",
   "metadata": {},
   "outputs": [],
   "source": [
    "df_limpio = df_limpio.drop('per_ocu', axis=1)"
   ]
  },
  {
   "cell_type": "markdown",
   "id": "20b95240",
   "metadata": {},
   "source": [
    "# Convertir a GeoDataFrame"
   ]
  },
  {
   "cell_type": "code",
   "execution_count": 6,
   "id": "d168aeb4",
   "metadata": {},
   "outputs": [],
   "source": [
    "# Crea una columna 'geometry' utilizando las columnas de latitud y longitud\n",
    "geometry = [Point(xy) for xy in zip(df_limpio['longitud'], df_limpio['latitud'])]\n",
    "df_limpio['geometry'] = geometry\n",
    "\n",
    "# Convierte el DataFrame de pandas en un GeoDataFrame de GeoPandas\n",
    "gdf = gpd.GeoDataFrame(df_limpio, geometry='geometry')\n",
    "\n",
    "\n",
    "srs_gdf = \"+proj=longlat +ellps=WGS84 +datum=WGS84 +no_defs\"\n",
    "transformador = Transformer.from_proj(Proj(srs_gdf), Proj(srs_raster))\n",
    "gdf[\"geometry\"] = gdf[\"geometry\"].apply(lambda geom: Point(transformador.transform(geom.x, geom.y)))"
   ]
  },
  {
   "cell_type": "markdown",
   "id": "ac8696b3",
   "metadata": {},
   "source": [
    "# Encontrar caracteristicas de los vecinos"
   ]
  },
  {
   "cell_type": "code",
   "execution_count": 7,
   "id": "6d316c3b",
   "metadata": {},
   "outputs": [],
   "source": [
    "import numpy as np\n",
    "from sklearn.neighbors import NearestNeighbors\n",
    "\n",
    "# Extrae las coordenadas de 'geometry' y conviértelas en un array numpy de forma vectorizada\n",
    "coordinates = np.array([[geom.x, geom.y] for geom in gdf['geometry']])\n",
    "\n",
    "# Crea un objeto NearestNeighbors para buscar los vecinos cercanos\n",
    "k_neighbors = 5  # Número de vecinos cercanos que deseas considerar\n",
    "neighbors = NearestNeighbors(n_neighbors=k_neighbors, algorithm='ball_tree', metric='haversine')\n",
    "neighbors.fit(coordinates)\n",
    "\n",
    "# Encuentra los vecinos cercanos para todas las filas en un solo paso\n",
    "distances, indices = neighbors.kneighbors(coordinates)\n",
    "\n",
    "# Preparar un DataFrame para los códigos de los vecinos\n",
    "neighbor_codes_df = pd.DataFrame(index=gdf.index, columns=[f'surrounding_code_{i+1}' for i in range(k_neighbors)])\n",
    "\n",
    "# Asignar los códigos de los vecinos a las nuevas columnas\n",
    "for i in range(k_neighbors):\n",
    "    neighbor_codes_df.iloc[:, i] = gdf.iloc[indices[:, i]]['codigo_act'].values\n",
    "\n",
    "# Concatena las columnas nuevas al GeoDataFrame original\n",
    "gdf = pd.concat([gdf, neighbor_codes_df], axis=1)\n"
   ]
  },
  {
   "cell_type": "markdown",
   "id": "2759d3b6",
   "metadata": {},
   "source": [
    "# Convertir datos a categoricas binarias"
   ]
  },
  {
   "cell_type": "code",
   "execution_count": 10,
   "id": "cbb6e2db",
   "metadata": {},
   "outputs": [],
   "source": [
    "# Convert y to a pandas Series\n",
    "y = gdf['codigo_act'].astype('category')\n",
    "\n",
    "# Create a dictionary to map category codes to their respective category labels\n",
    "y_dict = dict(enumerate(y.cat.categories))\n",
    "\n",
    "# Apply pd.get_dummies to create dummy variables for y\n",
    "y = pd.get_dummies(y, columns=['codigo_act'])\n",
    "\n",
    "# Convert y to a numpy array\n",
    "y = y.values\n",
    "\n",
    "# Rest of your code remains the same\n",
    "surronding = ['surrounding_code_1','surrounding_code_2', 'surrounding_code_3', 'surrounding_code_4', 'surrounding_code_5']\n",
    "\n",
    "# Create an empty DataFrame for X\n",
    "X = pd.DataFrame()\n",
    "\n",
    "for i in surronding:\n",
    "    # Create a new column in X for each column of 'surrounding'\n",
    "    X[i] = gdf[i].astype('category')\n",
    "\n",
    "# Apply pd.get_dummies to all columns of X\n",
    "X = pd.get_dummies(X, columns=surronding)\n",
    "X = X.values\n",
    "\n",
    "X_smote = X\n",
    "y_smote = y\n",
    "# Apply SMOTE to the training data for tabular features\n",
    "#hotfix\n",
    "#smote_tabular = SMOTE(random_state=42, k_neighbors=3)\n",
    "#X_smote, y_smote = smote_tabular.fit_resample(X, y)"
   ]
  },
  {
   "cell_type": "code",
   "execution_count": 11,
   "id": "2d1a18c3",
   "metadata": {},
   "outputs": [],
   "source": [
    "X_smote_train, X_smote_test, y_smote_train, y_smote_test = train_test_split(X_smote, y_smote, test_size=0.2, random_state=42)"
   ]
  },
  {
   "cell_type": "markdown",
   "id": "11d8e59b",
   "metadata": {},
   "source": [
    "# Entrenamiento Red"
   ]
  },
  {
   "cell_type": "code",
   "execution_count": 12,
   "id": "22105317",
   "metadata": {},
   "outputs": [
    {
     "name": "stderr",
     "output_type": "stream",
     "text": [
      "2023-12-15 05:42:28.413339: E external/local_xla/xla/stream_executor/cuda/cuda_driver.cc:274] failed call to cuInit: UNKNOWN ERROR (34)\n"
     ]
    }
   ],
   "source": [
    "from tensorflow import keras\n",
    "# Crear un modelo de red neuronal para clasificación binaria\n",
    "model = keras.Sequential([\n",
    "    keras.layers.Dense(64, activation='relu', input_shape=(X_smote_train.shape[1],)),\n",
    "    keras.layers.Dropout(0.2),\n",
    "    keras.layers.Dense(20, activation='sigmoid')  # Una unidad en la capa de salida para clasificación binaria\n",
    "])\n",
    "\n",
    "# Compilar el modelo\n",
    "model.compile(optimizer='adam', loss='mean_squared_error', metrics=['mae'])"
   ]
  },
  {
   "cell_type": "code",
   "execution_count": 13,
   "id": "ef247556",
   "metadata": {},
   "outputs": [
    {
     "name": "stdout",
     "output_type": "stream",
     "text": [
      "Epoch 1/100\n",
      "14/14 [==============================] - 0s 13ms/step - loss: 0.2402 - mae: 0.4864 - val_loss: 0.2177 - val_mae: 0.4634\n",
      "Epoch 2/100\n",
      "14/14 [==============================] - 0s 6ms/step - loss: 0.2002 - mae: 0.4423 - val_loss: 0.1749 - val_mae: 0.4128\n",
      "Epoch 3/100\n",
      "14/14 [==============================] - 0s 6ms/step - loss: 0.1550 - mae: 0.3842 - val_loss: 0.1263 - val_mae: 0.3440\n",
      "Epoch 4/100\n",
      "14/14 [==============================] - 0s 7ms/step - loss: 0.1078 - mae: 0.3096 - val_loss: 0.0825 - val_mae: 0.2638\n",
      "Epoch 5/100\n",
      "14/14 [==============================] - 0s 8ms/step - loss: 0.0715 - mae: 0.2334 - val_loss: 0.0560 - val_mae: 0.1948\n",
      "Epoch 6/100\n",
      "14/14 [==============================] - 0s 8ms/step - loss: 0.0520 - mae: 0.1758 - val_loss: 0.0444 - val_mae: 0.1505\n",
      "Epoch 7/100\n",
      "14/14 [==============================] - 0s 7ms/step - loss: 0.0435 - mae: 0.1415 - val_loss: 0.0394 - val_mae: 0.1259\n",
      "Epoch 8/100\n",
      "14/14 [==============================] - 0s 6ms/step - loss: 0.0394 - mae: 0.1223 - val_loss: 0.0367 - val_mae: 0.1122\n",
      "Epoch 9/100\n",
      "14/14 [==============================] - 0s 7ms/step - loss: 0.0369 - mae: 0.1113 - val_loss: 0.0346 - val_mae: 0.1040\n",
      "Epoch 10/100\n",
      "14/14 [==============================] - 0s 8ms/step - loss: 0.0350 - mae: 0.1044 - val_loss: 0.0328 - val_mae: 0.0985\n",
      "Epoch 11/100\n",
      "14/14 [==============================] - 0s 7ms/step - loss: 0.0333 - mae: 0.0996 - val_loss: 0.0312 - val_mae: 0.0942\n",
      "Epoch 12/100\n",
      "14/14 [==============================] - 0s 8ms/step - loss: 0.0317 - mae: 0.0956 - val_loss: 0.0296 - val_mae: 0.0904\n",
      "Epoch 13/100\n",
      "14/14 [==============================] - 0s 9ms/step - loss: 0.0301 - mae: 0.0919 - val_loss: 0.0280 - val_mae: 0.0868\n",
      "Epoch 14/100\n",
      "14/14 [==============================] - 0s 6ms/step - loss: 0.0286 - mae: 0.0885 - val_loss: 0.0265 - val_mae: 0.0833\n",
      "Epoch 15/100\n",
      "14/14 [==============================] - 0s 8ms/step - loss: 0.0272 - mae: 0.0850 - val_loss: 0.0251 - val_mae: 0.0799\n",
      "Epoch 16/100\n",
      "14/14 [==============================] - 0s 9ms/step - loss: 0.0258 - mae: 0.0817 - val_loss: 0.0236 - val_mae: 0.0765\n",
      "Epoch 17/100\n",
      "14/14 [==============================] - 0s 7ms/step - loss: 0.0244 - mae: 0.0785 - val_loss: 0.0223 - val_mae: 0.0733\n",
      "Epoch 18/100\n",
      "14/14 [==============================] - 0s 7ms/step - loss: 0.0231 - mae: 0.0753 - val_loss: 0.0211 - val_mae: 0.0701\n",
      "Epoch 19/100\n",
      "14/14 [==============================] - 0s 7ms/step - loss: 0.0219 - mae: 0.0722 - val_loss: 0.0199 - val_mae: 0.0670\n",
      "Epoch 20/100\n",
      "14/14 [==============================] - 0s 10ms/step - loss: 0.0209 - mae: 0.0693 - val_loss: 0.0189 - val_mae: 0.0642\n",
      "Epoch 21/100\n",
      "14/14 [==============================] - 0s 8ms/step - loss: 0.0199 - mae: 0.0667 - val_loss: 0.0180 - val_mae: 0.0617\n",
      "Epoch 22/100\n",
      "14/14 [==============================] - 0s 7ms/step - loss: 0.0191 - mae: 0.0645 - val_loss: 0.0172 - val_mae: 0.0595\n",
      "Epoch 23/100\n",
      "14/14 [==============================] - 0s 8ms/step - loss: 0.0182 - mae: 0.0625 - val_loss: 0.0164 - val_mae: 0.0576\n",
      "Epoch 24/100\n",
      "14/14 [==============================] - 0s 9ms/step - loss: 0.0176 - mae: 0.0607 - val_loss: 0.0157 - val_mae: 0.0558\n",
      "Epoch 25/100\n",
      "14/14 [==============================] - 0s 7ms/step - loss: 0.0169 - mae: 0.0591 - val_loss: 0.0151 - val_mae: 0.0542\n",
      "Epoch 26/100\n",
      "14/14 [==============================] - 0s 6ms/step - loss: 0.0162 - mae: 0.0575 - val_loss: 0.0144 - val_mae: 0.0526\n",
      "Epoch 27/100\n",
      "14/14 [==============================] - 0s 7ms/step - loss: 0.0156 - mae: 0.0561 - val_loss: 0.0138 - val_mae: 0.0511\n",
      "Epoch 28/100\n",
      "14/14 [==============================] - 0s 8ms/step - loss: 0.0150 - mae: 0.0547 - val_loss: 0.0133 - val_mae: 0.0496\n",
      "Epoch 29/100\n",
      "14/14 [==============================] - 0s 7ms/step - loss: 0.0145 - mae: 0.0533 - val_loss: 0.0127 - val_mae: 0.0481\n",
      "Epoch 30/100\n",
      "14/14 [==============================] - 0s 8ms/step - loss: 0.0140 - mae: 0.0519 - val_loss: 0.0123 - val_mae: 0.0467\n",
      "Epoch 31/100\n",
      "14/14 [==============================] - 0s 10ms/step - loss: 0.0135 - mae: 0.0504 - val_loss: 0.0118 - val_mae: 0.0452\n",
      "Epoch 32/100\n",
      "14/14 [==============================] - 0s 7ms/step - loss: 0.0131 - mae: 0.0491 - val_loss: 0.0115 - val_mae: 0.0439\n",
      "Epoch 33/100\n",
      "14/14 [==============================] - 0s 8ms/step - loss: 0.0127 - mae: 0.0477 - val_loss: 0.0111 - val_mae: 0.0426\n",
      "Epoch 34/100\n",
      "14/14 [==============================] - 0s 8ms/step - loss: 0.0124 - mae: 0.0466 - val_loss: 0.0108 - val_mae: 0.0414\n",
      "Epoch 35/100\n",
      "14/14 [==============================] - 0s 7ms/step - loss: 0.0121 - mae: 0.0454 - val_loss: 0.0105 - val_mae: 0.0402\n",
      "Epoch 36/100\n",
      "14/14 [==============================] - 0s 8ms/step - loss: 0.0118 - mae: 0.0443 - val_loss: 0.0102 - val_mae: 0.0391\n",
      "Epoch 37/100\n",
      "14/14 [==============================] - 0s 10ms/step - loss: 0.0115 - mae: 0.0433 - val_loss: 0.0099 - val_mae: 0.0382\n",
      "Epoch 38/100\n",
      "14/14 [==============================] - 0s 9ms/step - loss: 0.0112 - mae: 0.0423 - val_loss: 0.0097 - val_mae: 0.0372\n",
      "Epoch 39/100\n",
      "14/14 [==============================] - 0s 7ms/step - loss: 0.0109 - mae: 0.0414 - val_loss: 0.0095 - val_mae: 0.0363\n",
      "Epoch 40/100\n",
      "14/14 [==============================] - 0s 7ms/step - loss: 0.0107 - mae: 0.0405 - val_loss: 0.0092 - val_mae: 0.0355\n",
      "Epoch 41/100\n",
      "14/14 [==============================] - 0s 6ms/step - loss: 0.0105 - mae: 0.0396 - val_loss: 0.0090 - val_mae: 0.0346\n",
      "Epoch 42/100\n",
      "14/14 [==============================] - 0s 7ms/step - loss: 0.0103 - mae: 0.0389 - val_loss: 0.0089 - val_mae: 0.0338\n",
      "Epoch 43/100\n",
      "14/14 [==============================] - 0s 10ms/step - loss: 0.0100 - mae: 0.0380 - val_loss: 0.0087 - val_mae: 0.0330\n",
      "Epoch 44/100\n",
      "14/14 [==============================] - 0s 9ms/step - loss: 0.0098 - mae: 0.0372 - val_loss: 0.0085 - val_mae: 0.0323\n",
      "Epoch 45/100\n",
      "14/14 [==============================] - 0s 7ms/step - loss: 0.0097 - mae: 0.0364 - val_loss: 0.0084 - val_mae: 0.0316\n",
      "Epoch 46/100\n",
      "14/14 [==============================] - 0s 8ms/step - loss: 0.0095 - mae: 0.0357 - val_loss: 0.0082 - val_mae: 0.0309\n",
      "Epoch 47/100\n",
      "14/14 [==============================] - 0s 7ms/step - loss: 0.0094 - mae: 0.0351 - val_loss: 0.0081 - val_mae: 0.0302\n",
      "Epoch 48/100\n",
      "14/14 [==============================] - 0s 9ms/step - loss: 0.0092 - mae: 0.0344 - val_loss: 0.0079 - val_mae: 0.0296\n",
      "Epoch 49/100\n",
      "14/14 [==============================] - 0s 6ms/step - loss: 0.0090 - mae: 0.0338 - val_loss: 0.0078 - val_mae: 0.0290\n",
      "Epoch 50/100\n",
      "14/14 [==============================] - 0s 9ms/step - loss: 0.0089 - mae: 0.0333 - val_loss: 0.0077 - val_mae: 0.0284\n",
      "Epoch 51/100\n",
      "14/14 [==============================] - 0s 7ms/step - loss: 0.0087 - mae: 0.0326 - val_loss: 0.0076 - val_mae: 0.0278\n",
      "Epoch 52/100\n",
      "14/14 [==============================] - 0s 7ms/step - loss: 0.0086 - mae: 0.0319 - val_loss: 0.0075 - val_mae: 0.0272\n",
      "Epoch 53/100\n",
      "14/14 [==============================] - 0s 7ms/step - loss: 0.0085 - mae: 0.0313 - val_loss: 0.0074 - val_mae: 0.0265\n",
      "Epoch 54/100\n",
      "14/14 [==============================] - 0s 7ms/step - loss: 0.0084 - mae: 0.0306 - val_loss: 0.0073 - val_mae: 0.0259\n",
      "Epoch 55/100\n",
      "14/14 [==============================] - 0s 7ms/step - loss: 0.0083 - mae: 0.0299 - val_loss: 0.0072 - val_mae: 0.0253\n",
      "Epoch 56/100\n",
      "14/14 [==============================] - 0s 6ms/step - loss: 0.0083 - mae: 0.0294 - val_loss: 0.0072 - val_mae: 0.0248\n",
      "Epoch 57/100\n",
      "14/14 [==============================] - 0s 5ms/step - loss: 0.0082 - mae: 0.0288 - val_loss: 0.0071 - val_mae: 0.0243\n",
      "Epoch 58/100\n",
      "14/14 [==============================] - 0s 6ms/step - loss: 0.0081 - mae: 0.0283 - val_loss: 0.0071 - val_mae: 0.0238\n",
      "Epoch 59/100\n",
      "14/14 [==============================] - 0s 8ms/step - loss: 0.0081 - mae: 0.0278 - val_loss: 0.0070 - val_mae: 0.0234\n",
      "Epoch 60/100\n",
      "14/14 [==============================] - 0s 6ms/step - loss: 0.0080 - mae: 0.0274 - val_loss: 0.0070 - val_mae: 0.0229\n",
      "Epoch 61/100\n",
      "14/14 [==============================] - 0s 8ms/step - loss: 0.0079 - mae: 0.0269 - val_loss: 0.0069 - val_mae: 0.0225\n",
      "Epoch 62/100\n",
      "14/14 [==============================] - 0s 7ms/step - loss: 0.0079 - mae: 0.0264 - val_loss: 0.0069 - val_mae: 0.0222\n",
      "Epoch 63/100\n",
      "14/14 [==============================] - 0s 7ms/step - loss: 0.0079 - mae: 0.0261 - val_loss: 0.0069 - val_mae: 0.0218\n",
      "Epoch 64/100\n",
      "14/14 [==============================] - 0s 7ms/step - loss: 0.0078 - mae: 0.0258 - val_loss: 0.0069 - val_mae: 0.0215\n",
      "Epoch 65/100\n",
      "14/14 [==============================] - 0s 5ms/step - loss: 0.0078 - mae: 0.0255 - val_loss: 0.0068 - val_mae: 0.0212\n",
      "Epoch 66/100\n",
      "14/14 [==============================] - 0s 7ms/step - loss: 0.0077 - mae: 0.0250 - val_loss: 0.0068 - val_mae: 0.0209\n",
      "Epoch 67/100\n",
      "14/14 [==============================] - 0s 6ms/step - loss: 0.0077 - mae: 0.0247 - val_loss: 0.0068 - val_mae: 0.0207\n",
      "Epoch 68/100\n",
      "14/14 [==============================] - 0s 8ms/step - loss: 0.0077 - mae: 0.0245 - val_loss: 0.0067 - val_mae: 0.0204\n",
      "Epoch 69/100\n",
      "14/14 [==============================] - 0s 7ms/step - loss: 0.0076 - mae: 0.0243 - val_loss: 0.0067 - val_mae: 0.0202\n",
      "Epoch 70/100\n",
      "14/14 [==============================] - 0s 6ms/step - loss: 0.0076 - mae: 0.0240 - val_loss: 0.0067 - val_mae: 0.0199\n",
      "Epoch 71/100\n",
      "14/14 [==============================] - 0s 7ms/step - loss: 0.0076 - mae: 0.0238 - val_loss: 0.0067 - val_mae: 0.0197\n",
      "Epoch 72/100\n",
      "14/14 [==============================] - 0s 6ms/step - loss: 0.0075 - mae: 0.0235 - val_loss: 0.0066 - val_mae: 0.0195\n",
      "Epoch 73/100\n",
      "14/14 [==============================] - 0s 7ms/step - loss: 0.0075 - mae: 0.0233 - val_loss: 0.0066 - val_mae: 0.0194\n",
      "Epoch 74/100\n",
      "14/14 [==============================] - 0s 6ms/step - loss: 0.0075 - mae: 0.0232 - val_loss: 0.0066 - val_mae: 0.0192\n",
      "Epoch 75/100\n",
      "14/14 [==============================] - 0s 6ms/step - loss: 0.0075 - mae: 0.0230 - val_loss: 0.0066 - val_mae: 0.0190\n",
      "Epoch 76/100\n",
      "14/14 [==============================] - 0s 6ms/step - loss: 0.0074 - mae: 0.0228 - val_loss: 0.0065 - val_mae: 0.0189\n",
      "Epoch 77/100\n",
      "14/14 [==============================] - 0s 6ms/step - loss: 0.0073 - mae: 0.0225 - val_loss: 0.0065 - val_mae: 0.0187\n",
      "Epoch 78/100\n",
      "14/14 [==============================] - 0s 6ms/step - loss: 0.0073 - mae: 0.0224 - val_loss: 0.0065 - val_mae: 0.0186\n",
      "Epoch 79/100\n",
      "14/14 [==============================] - 0s 7ms/step - loss: 0.0073 - mae: 0.0222 - val_loss: 0.0065 - val_mae: 0.0185\n",
      "Epoch 80/100\n",
      "14/14 [==============================] - 0s 5ms/step - loss: 0.0073 - mae: 0.0222 - val_loss: 0.0064 - val_mae: 0.0184\n",
      "Epoch 81/100\n",
      "14/14 [==============================] - 0s 6ms/step - loss: 0.0072 - mae: 0.0220 - val_loss: 0.0064 - val_mae: 0.0183\n",
      "Epoch 82/100\n",
      "14/14 [==============================] - 0s 7ms/step - loss: 0.0072 - mae: 0.0220 - val_loss: 0.0063 - val_mae: 0.0182\n",
      "Epoch 83/100\n",
      "14/14 [==============================] - 0s 6ms/step - loss: 0.0071 - mae: 0.0218 - val_loss: 0.0062 - val_mae: 0.0181\n",
      "Epoch 84/100\n",
      "14/14 [==============================] - 0s 6ms/step - loss: 0.0070 - mae: 0.0218 - val_loss: 0.0062 - val_mae: 0.0180\n",
      "Epoch 85/100\n",
      "14/14 [==============================] - 0s 6ms/step - loss: 0.0070 - mae: 0.0216 - val_loss: 0.0062 - val_mae: 0.0178\n",
      "Epoch 86/100\n",
      "14/14 [==============================] - 0s 6ms/step - loss: 0.0070 - mae: 0.0215 - val_loss: 0.0061 - val_mae: 0.0176\n",
      "Epoch 87/100\n",
      "14/14 [==============================] - 0s 6ms/step - loss: 0.0069 - mae: 0.0212 - val_loss: 0.0061 - val_mae: 0.0174\n",
      "Epoch 88/100\n",
      "14/14 [==============================] - 0s 5ms/step - loss: 0.0069 - mae: 0.0209 - val_loss: 0.0061 - val_mae: 0.0172\n",
      "Epoch 89/100\n",
      "14/14 [==============================] - 0s 5ms/step - loss: 0.0069 - mae: 0.0207 - val_loss: 0.0061 - val_mae: 0.0170\n",
      "Epoch 90/100\n",
      "14/14 [==============================] - 0s 6ms/step - loss: 0.0068 - mae: 0.0205 - val_loss: 0.0061 - val_mae: 0.0168\n",
      "Epoch 91/100\n",
      "14/14 [==============================] - 0s 5ms/step - loss: 0.0068 - mae: 0.0203 - val_loss: 0.0060 - val_mae: 0.0166\n",
      "Epoch 92/100\n",
      "14/14 [==============================] - 0s 5ms/step - loss: 0.0068 - mae: 0.0201 - val_loss: 0.0060 - val_mae: 0.0165\n",
      "Epoch 93/100\n",
      "14/14 [==============================] - 0s 6ms/step - loss: 0.0068 - mae: 0.0199 - val_loss: 0.0060 - val_mae: 0.0163\n",
      "Epoch 94/100\n",
      "14/14 [==============================] - 0s 6ms/step - loss: 0.0067 - mae: 0.0197 - val_loss: 0.0060 - val_mae: 0.0162\n",
      "Epoch 95/100\n",
      "14/14 [==============================] - 0s 6ms/step - loss: 0.0068 - mae: 0.0196 - val_loss: 0.0060 - val_mae: 0.0161\n",
      "Epoch 96/100\n",
      "14/14 [==============================] - 0s 8ms/step - loss: 0.0067 - mae: 0.0195 - val_loss: 0.0060 - val_mae: 0.0159\n",
      "Epoch 97/100\n",
      "14/14 [==============================] - 0s 7ms/step - loss: 0.0067 - mae: 0.0193 - val_loss: 0.0060 - val_mae: 0.0158\n",
      "Epoch 98/100\n",
      "14/14 [==============================] - 0s 7ms/step - loss: 0.0067 - mae: 0.0191 - val_loss: 0.0060 - val_mae: 0.0157\n",
      "Epoch 99/100\n",
      "14/14 [==============================] - 0s 8ms/step - loss: 0.0067 - mae: 0.0190 - val_loss: 0.0060 - val_mae: 0.0156\n",
      "Epoch 100/100\n",
      "14/14 [==============================] - 0s 6ms/step - loss: 0.0067 - mae: 0.0189 - val_loss: 0.0060 - val_mae: 0.0154\n"
     ]
    },
    {
     "data": {
      "text/plain": [
       "<keras.src.callbacks.History at 0x7f441d0b19d0>"
      ]
     },
     "execution_count": 13,
     "metadata": {},
     "output_type": "execute_result"
    }
   ],
   "source": [
    "# Entrenar el modelo\n",
    "model.fit(X_smote_train, y_smote_train, epochs=100, batch_size=3648, validation_data=(X_smote_test, y_smote_test))"
   ]
  },
  {
   "cell_type": "code",
   "execution_count": 14,
   "id": "732005dd",
   "metadata": {},
   "outputs": [],
   "source": [
    "if tf.__version__ == \"2.15.0\":\n",
    "    model.save('output_model/geo_recortes.keras')\n",
    "else:\n",
    "    print(\"Versión de tensorflow no compabile, intenta corriendo:\")\n",
    "    print(\"podman-compose up model\")"
   ]
  },
  {
   "cell_type": "markdown",
   "id": "7121da54",
   "metadata": {},
   "source": [
    "# Aplicacion del modelo"
   ]
  },
  {
   "cell_type": "markdown",
   "id": "5acc6d2c",
   "metadata": {},
   "source": [
    "## Convertir coordenadas a un sistema de coordenadas decimal"
   ]
  },
  {
   "cell_type": "code",
   "execution_count": null,
   "id": "c7d983aa",
   "metadata": {},
   "outputs": [],
   "source": [
    "def latlon_to_gdf(latitud, longitud):\n",
    "    ruta_tiff = \"imagen.tif\"\n",
    "\n",
    "    with rasterio.open(ruta_tiff) as src:\n",
    "        srs_raster = src.crs.to_proj4()\n",
    "    # Crea un DataFrame con una sola fila que contiene la latitud y longitud proporcionadas\n",
    "    data = {'latitud': [latitud], 'longitud': [longitud]}\n",
    "    df = pd.DataFrame(data)\n",
    "\n",
    "    # Crea una columna 'geometry' utilizando las columnas de latitud y longitud\n",
    "    geometry = [Point(xy) for xy in zip(df['longitud'], df['latitud'])]\n",
    "    df['geometry'] = geometry\n",
    "\n",
    "    # Crea un GeoDataFrame de GeoPandas\n",
    "    gdf = gpd.GeoDataFrame(df, geometry='geometry')\n",
    "\n",
    "        \n",
    "    srs_gdf = \"+proj=longlat +ellps=WGS84 +datum=WGS84 +no_defs\"\n",
    "    transformador = Transformer.from_proj(Proj(srs_gdf), Proj(srs_raster))\n",
    "    gdf[\"geometry\"] = gdf[\"geometry\"].apply(lambda geom: Point(transformador.transform(geom.x, geom.y)))  \n",
    "    \n",
    "    return gdf\n",
    "\n",
    "# Ejemplo de uso\n",
    "latitud = 21.908992\n",
    "longitud = -102.329807\n",
    "resultado = latlon_to_gdf(latitud, longitud)"
   ]
  },
  {
   "cell_type": "markdown",
   "id": "620dd13f",
   "metadata": {},
   "source": [
    "## Extraer coordenadas x, y"
   ]
  },
  {
   "cell_type": "code",
   "execution_count": null,
   "id": "f125da07",
   "metadata": {},
   "outputs": [],
   "source": [
    "# Extraer las coordenadas \"x\" e \"y\" en columnas separadas\n",
    "resultado['x'] = resultado['geometry'].x\n",
    "resultado['y'] = resultado['geometry'].y\n",
    "[coordenada_x,coordenada_y] = [resultado['x'][0],resultado['y'][0] ]"
   ]
  },
  {
   "cell_type": "markdown",
   "id": "07d163a2",
   "metadata": {},
   "source": [
    "## Encontrar vecinos cercanos"
   ]
  },
  {
   "cell_type": "code",
   "execution_count": null,
   "id": "a3468972",
   "metadata": {},
   "outputs": [],
   "source": [
    "def find_nearest_neighbors(input_coords, gdf, k_neighbors=5):\n",
    "    # Extrae las coordenadas del gdf\n",
    "    coordinates = np.array([[geom.x, geom.y] for geom in gdf['geometry']])\n",
    "\n",
    "    # Crea e inicializa el objeto NearestNeighbors\n",
    "    neighbors = NearestNeighbors(n_neighbors=k_neighbors, algorithm='ball_tree', metric='haversine')\n",
    "    neighbors.fit(coordinates)\n",
    "\n",
    "    # Encuentra los vecinos más cercanos para las coordenadas dadas\n",
    "    distances, indices = neighbors.kneighbors([input_coords])\n",
    "\n",
    "    # Extrae los códigos de actividad de los vecinos más cercanos\n",
    "    neighbor_codes = gdf.iloc[indices[0]]['codigo_act'].values\n",
    "\n",
    "    return neighbor_codes\n",
    "\n",
    "# Uso de la función (ejemplo)\n",
    "# input_coords = [x, y]  # Reemplaza x, y con las coordenadas de interés\n",
    "# nearest_neighbor_codes = find_nearest_neighbors(input_coords, gdf)\n",
    "\n",
    "\n",
    "# Ejemplo de uso de la función:\n",
    "# Supongamos que tienes un GeoDataFrame llamado 'mi_gdf' y un arreglo de coordenadas llamado 'mis_coordenadas'\n",
    "neighbors_values = find_nearest_neighbors([coordenada_x,coordenada_y],gdf)"
   ]
  },
  {
   "cell_type": "markdown",
   "id": "8fbec3ee",
   "metadata": {},
   "source": [
    "## Codificación de los valores a categoricas"
   ]
  },
  {
   "cell_type": "code",
   "execution_count": null,
   "id": "52fb259f",
   "metadata": {},
   "outputs": [],
   "source": [
    "# Diccionario dado\n",
    "diccionario = {0: 11.0, 1: 21.0, 2: 22.0, 3: 23.0, 4: 31.0, 5: 43.0, 6: 46.0, 7: 48.0, 8: 51.0, 9: 52.0, 10: 53.0, 11: 54.0, 12: 55.0, 13: 56.0, 14: 61.0, 15: 62.0, 16: 71.0, 17: 72.0, 18: 81.0, 19: 93.0}\n",
    "\n",
    "def crear_vectores(diccionario, neighbors_values):\n",
    "    # Inicializar la lista de vectores resultantes\n",
    "    vectores_resultantes = []\n",
    "\n",
    "    # Iterar sobre cada valor en neighbors_values\n",
    "    for valor in neighbors_values:\n",
    "        # Crear un vector de 20 ceros\n",
    "        vector = [0] * 20\n",
    "\n",
    "        # Buscar la clave en el diccionario que corresponda al valor actual\n",
    "        clave = next((k for k, v in diccionario.items() if v == valor), None)\n",
    "\n",
    "        # Si se encuentra la clave, poner un 1 en la posición correspondiente del vector\n",
    "        if clave is not None:\n",
    "            vector[clave] = 1\n",
    "\n",
    "        # Extender la lista con los elementos del vector\n",
    "        vectores_resultantes.extend(vector)\n",
    "\n",
    "    return vectores_resultantes\n",
    "\n",
    "vectores_resultantes = crear_vectores(diccionario, neighbors_values)\n",
    "vectores_resultantes = np.array(vectores_resultantes).reshape(-1, 100)"
   ]
  },
  {
   "cell_type": "markdown",
   "id": "1ba03f02",
   "metadata": {},
   "source": [
    "## Predicción"
   ]
  },
  {
   "cell_type": "code",
   "execution_count": null,
   "id": "9beb230f",
   "metadata": {},
   "outputs": [],
   "source": [
    "# Realiza las predicciones en tus datos de prueba\n",
    "predicciones = model.predict(vectores_resultantes)\n",
    "\n",
    "# Encuentra el índice del valor más alto en cada predicción\n",
    "indice_predicciones = np.argmax(predicciones, axis=1)\n",
    "\n",
    "def obtener_numero_por_indice(diccionario, indice):\n",
    "    # Busca el valor en el diccionario usando el índice dado\n",
    "    valor = diccionario.get(indice, None)\n",
    "    return valor\n",
    "\n",
    "\n",
    "numeros_correspondientes = [obtener_numero_por_indice(diccionario, indice) for indice in indice_predicciones]\n",
    "diccionario_actividades = {\n",
    "    11.0: \"Agricultura, cría y explotación de animales, aprovechamiento forestal, pesca y caza\",\n",
    "    21.0: \"Minería\",\n",
    "    22.0: \"Generación, transmisión, distribución y comercialización de energía eléctrica, suministro de agua y de gas natural por ductos al consumidor final\",\n",
    "    23.0: \"Construcción\",\n",
    "    31.0: \"Industrias manufactureras\",\n",
    "    32.0: \"Industrias manufactureras\",\n",
    "    33.0: \"Industrias manufactureras\",\n",
    "    43.0: \"Comercio al por mayor\",\n",
    "    46.0: \"Comercio al por menor\",\n",
    "    48.0: \"Transportes, correos y almacenamiento\",\n",
    "    49.0: \"Transportes, correos y almacenamiento\",\n",
    "    51.0: \"Información en medios masivos\",\n",
    "    52.0: \"Servicios financieros y de seguros\",\n",
    "    53.0: \"Servicios inmobiliarios y de alquiler de bienes muebles e intangibles\",\n",
    "    54.0: \"Servicios profesionales, científicos y técnicos\",\n",
    "    55.0: \"Dirección y administración de grupos empresariales o corporativos\",\n",
    "    56.0: \"Servicios de apoyo a los negocios y manejo de residuos, y servicios de remediación\",\n",
    "    61.0: \"Servicios educativos\",\n",
    "    62.0: \"Servicios de salud y de asistencia social\",\n",
    "    71.0: \"Servicios de esparcimiento culturales y deportivos, y otros servicios recreativos\",\n",
    "    72.0: \"Servicios de alojamiento temporal y de preparación de alimentos y bebidas\",\n",
    "    81.0: \"Otros servicios excepto actividades gubernamentales\",\n",
    "    93.0: \"Actividades legislativas, gubernamentales, de impartición de justicia y de organismos internacionales y extraterritoriales\"\n",
    "}\n",
    "actividad = diccionario_actividades.get(numeros_correspondientes[0], \"No se encontró la actividad\")\n",
    "print(f\"Las coordenadas corresponden muy posiblemente a un negocio de:\")\n",
    "print(actividad)"
   ]
  }
 ],
 "metadata": {
  "kernelspec": {
   "display_name": "Python 3 (ipykernel)",
   "language": "python",
   "name": "python3"
  },
  "language_info": {
   "codemirror_mode": {
    "name": "ipython",
    "version": 3
   },
   "file_extension": ".py",
   "mimetype": "text/x-python",
   "name": "python",
   "nbconvert_exporter": "python",
   "pygments_lexer": "ipython3",
   "version": "3.11.0rc1"
  }
 },
 "nbformat": 4,
 "nbformat_minor": 5
}
