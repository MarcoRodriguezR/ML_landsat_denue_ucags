{
 "cells": [
  {
   "cell_type": "code",
   "execution_count": 17,
   "metadata": {},
   "outputs": [],
   "source": [
    "import pandas as pd\n",
    "from flask import Flask, request, jsonify\n",
    "import threading\n",
    "from flask_cors import CORS\n",
    "import requests"
   ]
  },
  {
   "cell_type": "code",
   "execution_count": 18,
   "metadata": {},
   "outputs": [],
   "source": [
    "df2019 = pd.read_csv(\"conteos_mensuales2019.csv\")\n",
    "df2019[\"estado\"] = df2019[\"estado\"].str.upper().str.replace(\" \", \"\")\n",
    "# Agrupar por fecha y entidad, y sumar los valores\n",
    "df2019 = df2019.groupby([\"year_month\", \"estado\"], as_index=False).sum()\n",
    "# Separar la columna de fecha en año y mes\n",
    "df2019[[\"Año\", \"Mes\"]] = df2019[\"year_month\"].str.split(\"-\", expand=True)\n",
    "\n",
    "# Eliminar la columna original de fecha\n",
    "df2019 = df2019.drop(columns=[\"year_month\"])"
   ]
  },
  {
   "cell_type": "code",
   "execution_count": 19,
   "metadata": {},
   "outputs": [],
   "source": [
    "df2020 = pd.read_csv(\"conteos_mensuales2020.csv\")\n",
    "df2020[\"estado\"] = df2020[\"estado\"].str.upper().str.replace(\" \", \"\")\n",
    "# Agrupar por fecha y entidad, y sumar los valores\n",
    "df2020 = df2020.groupby([\"year_month\", \"estado\"], as_index=False).sum()\n",
    "# Separar la columna de fecha en año y mes\n",
    "df2020[[\"Año\", \"Mes\"]] = df2020[\"year_month\"].str.split(\"-\", expand=True)\n",
    "\n",
    "# Eliminar la columna original de fecha\n",
    "df2020 = df2020.drop(columns=[\"year_month\"])"
   ]
  },
  {
   "cell_type": "code",
   "execution_count": 20,
   "metadata": {},
   "outputs": [],
   "source": [
    "df2021 = pd.read_csv(\"conteos_mensuales_2021.csv\")\n",
    "df2021[\"estado\"] = df2021[\"estado\"].str.upper().str.replace(\" \", \"\")\n",
    "# Agrupar por fecha y entidad, y sumar los valores\n",
    "df2021 = df2021.groupby([\"year_month\", \"estado\"], as_index=False).sum()\n",
    "# Separar la columna de fecha en año y mes\n",
    "df2021[[\"Año\", \"Mes\"]] = df2021[\"year_month\"].str.split(\"-\", expand=True)\n",
    "\n",
    "# Eliminar la columna original de fecha\n",
    "df2021 = df2021.drop(columns=[\"year_month\"])"
   ]
  },
  {
   "cell_type": "code",
   "execution_count": 21,
   "metadata": {},
   "outputs": [],
   "source": [
    "df2022 = pd.read_csv(\"conteos_mensuales_2022.csv\")\n",
    "df2022[\"estado\"] = df2022[\"estado\"].str.upper().str.replace(\" \", \"\")\n",
    "# Agrupar por fecha y entidad, y sumar los valores\n",
    "df2022 = df2022.groupby([\"year_month\", \"estado\"], as_index=False).sum()\n",
    "# Separar la columna de fecha en año y mes\n",
    "df2022[[\"Año\", \"Mes\"]] = df2022[\"year_month\"].str.split(\"-\", expand=True)\n",
    "\n",
    "# Eliminar la columna original de fecha\n",
    "df2022 = df2022.drop(columns=[\"year_month\"])"
   ]
  },
  {
   "cell_type": "code",
   "execution_count": 22,
   "metadata": {},
   "outputs": [
    {
     "data": {
      "text/plain": [
       "<flask_cors.extension.CORS at 0x1f38d9a81a0>"
      ]
     },
     "execution_count": 22,
     "metadata": {},
     "output_type": "execute_result"
    }
   ],
   "source": [
    "app = Flask(__name__)\n",
    "CORS(app)"
   ]
  },
  {
   "cell_type": "code",
   "execution_count": 23,
   "metadata": {},
   "outputs": [],
   "source": [
    "datasets = {\"2019\": df2019, \"2020\": df2020, \"2021\": df2021, \"2022\": df2022}"
   ]
  },
  {
   "cell_type": "code",
   "execution_count": 24,
   "metadata": {},
   "outputs": [],
   "source": [
    "def fetch_holidays(api_key, country, year):\n",
    "    url = \"https://calendarific.com/api/v2/holidays\"\n",
    "    params = {\"api_key\": api_key, \"country\": country, \"year\": year}\n",
    "\n",
    "    response = requests.get(url, params=params)\n",
    "\n",
    "    if response.status_code == 200:\n",
    "        data = response.json()  # Obtener el contenido JSON de la respuesta\n",
    "        holidays = data.get(\"response\", {}).get(\"holidays\", [])\n",
    "        return holidays\n",
    "    else:\n",
    "        print(f\"Error: {response.status_code}\")\n",
    "        return []\n",
    "\n",
    "\n",
    "# Llave API, país y años de ejemplo\n",
    "api_key = \"5Sqyan7wZsyg4nMiQzHKqMSxWq7oGThI\"\n",
    "country = \"MX\"\n",
    "years = [2019, 2020, 2021, 2022]\n",
    "\n",
    "# Obtener los datos de las efemérides para cada año\n",
    "holidays_by_year = {year: fetch_holidays(api_key, country, year) for year in years}"
   ]
  },
  {
   "cell_type": "code",
   "execution_count": 25,
   "metadata": {},
   "outputs": [],
   "source": [
    "# Extraer la información relevante\n",
    "def extract_holiday_info(holidays):\n",
    "    extracted_info = []\n",
    "    for holiday in holidays:\n",
    "        year = holiday['date']['datetime']['year']\n",
    "        month = holiday['date']['datetime']['month']\n",
    "        day = holiday['date']['datetime']['day']\n",
    "        name = holiday['name']\n",
    "        locations = holiday['locations']\n",
    "        extracted_info.append({\n",
    "            'year': year,\n",
    "            'month': month,\n",
    "            'day': day,\n",
    "            'name': name,\n",
    "            'locations': locations\n",
    "        })\n",
    "    return extracted_info\n",
    "\n",
    "# Extraer la información de las efemérides para cada año\n",
    "extracted_holidays_by_year = {year: extract_holiday_info(holidays_by_year[year]) for year in holidays_by_year}"
   ]
  },
  {
   "cell_type": "code",
   "execution_count": 26,
   "metadata": {},
   "outputs": [],
   "source": [
    "# Filtrar las efemérides por año y mes\n",
    "def filter_holidays_by_year_and_month(extracted_holidays_by_year, year, month):\n",
    "    if year not in extracted_holidays_by_year:\n",
    "        return []\n",
    "\n",
    "    return [\n",
    "        holiday\n",
    "        for holiday in extracted_holidays_by_year[year]\n",
    "        if holiday[\"month\"] == month\n",
    "    ]"
   ]
  },
  {
   "cell_type": "code",
   "execution_count": 27,
   "metadata": {},
   "outputs": [],
   "source": [
    "@app.route(\"/get_data_by_year\", methods=[\"POST\"])\n",
    "def get_data_by_year():\n",
    "    request_data = request.get_json()\n",
    "    estado = request_data.get(\"estado\").upper().replace(\" \", \"\")\n",
    "    año = request_data.get(\"año\")\n",
    "\n",
    "    if año not in datasets:\n",
    "        return jsonify({\"error\": \"Año no válido\"}), 400\n",
    "\n",
    "    df = datasets[año]\n",
    "    result = df[df[\"estado\"] == estado]\n",
    "\n",
    "    if result.empty:\n",
    "        return (\n",
    "            jsonify(\n",
    "                {\"error\": \"No se encontraron datos para los parámetros proporcionados\"}\n",
    "            ),\n",
    "            404,\n",
    "        )\n",
    "\n",
    "    result = result.to_dict(orient=\"records\")\n",
    "    return jsonify(result), 200"
   ]
  },
  {
   "cell_type": "code",
   "execution_count": 28,
   "metadata": {},
   "outputs": [],
   "source": [
    "@app.route(\"/get_data\", methods=[\"POST\"])\n",
    "def get_data():\n",
    "    request_data = request.get_json()\n",
    "    estado = request_data.get(\"estado\").upper().replace(\" \", \"\")\n",
    "    mes = int(request_data.get(\"mes\"))\n",
    "    año = int(request_data.get(\"año\"))\n",
    "\n",
    "    if str(año) not in datasets:\n",
    "        return jsonify({\"error\": \"Año no válido\"}), 400\n",
    "\n",
    "    df = datasets[str(año)]\n",
    "    result = df[(df[\"estado\"] == estado) & (df[\"Mes\"] == f\"{mes:02}\")]\n",
    "\n",
    "    if result.empty:\n",
    "        return (\n",
    "            jsonify(\n",
    "                {\"error\": \"No se encontraron datos para los parámetros proporcionados\"}\n",
    "            ),\n",
    "            404,\n",
    "        )\n",
    "\n",
    "    result_data = result.to_dict(orient=\"records\")\n",
    "\n",
    "    # Obtener las festividades para el año y mes solicitados\n",
    "    holidays = filter_holidays_by_year_and_month(extracted_holidays_by_year, año, mes)\n",
    "\n",
    "    response = {\"data\": result_data, \"holidays\": holidays}\n",
    "\n",
    "    return jsonify(response), 200"
   ]
  },
  {
   "cell_type": "code",
   "execution_count": 29,
   "metadata": {},
   "outputs": [],
   "source": [
    "@app.route('/get_holidays_by_year', methods=['POST'])\n",
    "def get_holidays_by_year():\n",
    "    request_data = request.get_json()\n",
    "    año = int(request_data.get('año'))\n",
    "\n",
    "    if año not in extracted_holidays_by_year:\n",
    "        return jsonify({\"error\": \"Año no válido\"}), 400\n",
    "\n",
    "    holidays = extracted_holidays_by_year[año]\n",
    "\n",
    "    if not holidays:\n",
    "        return jsonify({\"error\": \"No se encontraron efemérides para el año proporcionado\"}), 404\n",
    "\n",
    "    return jsonify(holidays), 200"
   ]
  },
  {
   "cell_type": "code",
   "execution_count": 30,
   "metadata": {},
   "outputs": [
    {
     "name": "stdout",
     "output_type": "stream",
     "text": [
      " * Serving Flask app '__main__'\n",
      " * Debug mode: off\n"
     ]
    }
   ],
   "source": [
    "def run_app():\n",
    "    app.run(debug=False, use_reloader=False)\n",
    "\n",
    "\n",
    "# Ejecutar el servidor Flask en un hilo separado\n",
    "threading.Thread(target=run_app).start()"
   ]
  },
  {
   "cell_type": "code",
   "execution_count": 32,
   "metadata": {},
   "outputs": [
    {
     "name": "stdout",
     "output_type": "stream",
     "text": [
      "[{'Año': '2019', 'Mes': '01', 'conteo': 341, 'estado': 'CIUDADDEMÉXICO'}, {'Año': '2019', 'Mes': '02', 'conteo': 397, 'estado': 'CIUDADDEMÉXICO'}, {'Año': '2019', 'Mes': '03', 'conteo': 544, 'estado': 'CIUDADDEMÉXICO'}, {'Año': '2019', 'Mes': '04', 'conteo': 400, 'estado': 'CIUDADDEMÉXICO'}, {'Año': '2019', 'Mes': '05', 'conteo': 405, 'estado': 'CIUDADDEMÉXICO'}, {'Año': '2019', 'Mes': '06', 'conteo': 501, 'estado': 'CIUDADDEMÉXICO'}, {'Año': '2019', 'Mes': '07', 'conteo': 618, 'estado': 'CIUDADDEMÉXICO'}, {'Año': '2019', 'Mes': '08', 'conteo': 892, 'estado': 'CIUDADDEMÉXICO'}, {'Año': '2019', 'Mes': '09', 'conteo': 718, 'estado': 'CIUDADDEMÉXICO'}, {'Año': '2019', 'Mes': '10', 'conteo': 771, 'estado': 'CIUDADDEMÉXICO'}, {'Año': '2019', 'Mes': '11', 'conteo': 579, 'estado': 'CIUDADDEMÉXICO'}, {'Año': '2019', 'Mes': '12', 'conteo': 761, 'estado': 'CIUDADDEMÉXICO'}]\n"
     ]
    }
   ],
   "source": [
    "import requests\n",
    "import json\n",
    "\n",
    "url = \"http://127.0.0.1:5000/get_data_by_year\"\n",
    "headers = {\"Content-Type\": \"application/json\"}\n",
    "data = {\"estado\": \"Ciudad de México\", \"año\": \"2019\"}\n",
    "\n",
    "response = requests.post(url, headers=headers, data=json.dumps(data))\n",
    "print(response.json())"
   ]
  },
  {
   "cell_type": "code",
   "execution_count": 33,
   "metadata": {},
   "outputs": [
    {
     "name": "stdout",
     "output_type": "stream",
     "text": [
      "[{'Año': '2019', 'Mes': '01', 'conteo': 341, 'estado': 'CIUDADDEMÉXICO'}, {'Año': '2019', 'Mes': '02', 'conteo': 397, 'estado': 'CIUDADDEMÉXICO'}, {'Año': '2019', 'Mes': '03', 'conteo': 544, 'estado': 'CIUDADDEMÉXICO'}, {'Año': '2019', 'Mes': '04', 'conteo': 400, 'estado': 'CIUDADDEMÉXICO'}, {'Año': '2019', 'Mes': '05', 'conteo': 405, 'estado': 'CIUDADDEMÉXICO'}, {'Año': '2019', 'Mes': '06', 'conteo': 501, 'estado': 'CIUDADDEMÉXICO'}, {'Año': '2019', 'Mes': '07', 'conteo': 618, 'estado': 'CIUDADDEMÉXICO'}, {'Año': '2019', 'Mes': '08', 'conteo': 892, 'estado': 'CIUDADDEMÉXICO'}, {'Año': '2019', 'Mes': '09', 'conteo': 718, 'estado': 'CIUDADDEMÉXICO'}, {'Año': '2019', 'Mes': '10', 'conteo': 771, 'estado': 'CIUDADDEMÉXICO'}, {'Año': '2019', 'Mes': '11', 'conteo': 579, 'estado': 'CIUDADDEMÉXICO'}, {'Año': '2019', 'Mes': '12', 'conteo': 761, 'estado': 'CIUDADDEMÉXICO'}]\n"
     ]
    }
   ],
   "source": [
    "import requests\n",
    "import json\n",
    "\n",
    "url = \"http://127.0.0.1:5000/get_data_by_year\"\n",
    "headers = {\"Content-Type\": \"application/json\"}\n",
    "data = {\"estado\": \"Ciudad de México\", \"año\": \"2019\"}\n",
    "\n",
    "response = requests.post(url, headers=headers, data=json.dumps(data))\n",
    "print(response.json())"
   ]
  },
  {
   "cell_type": "code",
   "execution_count": 34,
   "metadata": {},
   "outputs": [
    {
     "name": "stdout",
     "output_type": "stream",
     "text": [
      "{'data': [{'Año': '2019', 'Mes': '04', 'conteo': 23328, 'estado': 'AGUASCALIENTES'}], 'holidays': [{'day': 14, 'locations': 'All', 'month': 4, 'name': 'Palm Sunday', 'year': 2019}, {'day': 18, 'locations': 'All', 'month': 4, 'name': 'Maundy Thursday', 'year': 2019}, {'day': 19, 'locations': 'All', 'month': 4, 'name': 'Good Friday', 'year': 2019}, {'day': 20, 'locations': 'All', 'month': 4, 'name': 'Holy Saturday', 'year': 2019}, {'day': 21, 'locations': 'All', 'month': 4, 'name': 'Easter Sunday', 'year': 2019}, {'day': 30, 'locations': 'All', 'month': 4, 'name': \"Children's Day\", 'year': 2019}]}\n"
     ]
    }
   ],
   "source": [
    "import requests\n",
    "import json\n",
    "\n",
    "url = \"http://127.0.0.1:5000/get_data\"\n",
    "headers = {\"Content-Type\": \"application/json\"}\n",
    "data = {\"estado\": \"Aguascalientes\", \"año\": \"2019\", \"mes\": \"4\"}\n",
    "\n",
    "response = requests.post(url, headers=headers, data=json.dumps(data))\n",
    "print(response.json())"
   ]
  }
 ],
 "metadata": {
  "kernelspec": {
   "display_name": "Python 3",
   "language": "python",
   "name": "python3"
  },
  "language_info": {
   "codemirror_mode": {
    "name": "ipython",
    "version": 3
   },
   "file_extension": ".py",
   "mimetype": "text/x-python",
   "name": "python",
   "nbconvert_exporter": "python",
   "pygments_lexer": "ipython3",
   "version": "3.12.3"
  }
 },
 "nbformat": 4,
 "nbformat_minor": 2
}
