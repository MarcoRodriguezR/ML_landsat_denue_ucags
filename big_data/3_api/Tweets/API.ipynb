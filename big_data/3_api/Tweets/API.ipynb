{
 "cells": [
  {
   "cell_type": "code",
   "execution_count": 1,
   "metadata": {},
   "outputs": [],
   "source": [
    "import pandas as pd\n",
    "from flask import Flask, request, jsonify\n",
    "import threading\n",
    "from flask_cors import CORS"
   ]
  },
  {
   "cell_type": "code",
   "execution_count": 2,
   "metadata": {},
   "outputs": [],
   "source": [
    "df2019 = pd.read_csv(\"conteos_mensuales2019.csv\")\n",
    "df2019[\"estado\"] = df2019[\"estado\"].str.upper().str.replace(\" \", \"\")\n",
    "# Agrupar por fecha y entidad, y sumar los valores\n",
    "df2019 = df2019.groupby([\"year_month\", \"estado\"], as_index=False).sum()\n",
    "# Separar la columna de fecha en año y mes\n",
    "df2019[[\"Año\", \"Mes\"]] = df2019[\"year_month\"].str.split(\"-\", expand=True)\n",
    "\n",
    "# Eliminar la columna original de fecha\n",
    "df2019 = df2019.drop(columns=[\"year_month\"])"
   ]
  },
  {
   "cell_type": "code",
   "execution_count": 3,
   "metadata": {},
   "outputs": [],
   "source": [
    "df2020 = pd.read_csv(\"conteos_mensuales2020.csv\")\n",
    "df2020[\"estado\"] = df2020[\"estado\"].str.upper().str.replace(\" \", \"\")\n",
    "# Agrupar por fecha y entidad, y sumar los valores\n",
    "df2020 = df2020.groupby([\"year_month\", \"estado\"], as_index=False).sum()\n",
    "# Separar la columna de fecha en año y mes\n",
    "df2020[[\"Año\", \"Mes\"]] = df2020[\"year_month\"].str.split(\"-\", expand=True)\n",
    "\n",
    "# Eliminar la columna original de fecha\n",
    "df2020 = df2020.drop(columns=[\"year_month\"])"
   ]
  },
  {
   "cell_type": "code",
   "execution_count": 4,
   "metadata": {},
   "outputs": [],
   "source": [
    "df2021 = pd.read_csv(\"conteos_mensuales_2021.csv\")\n",
    "df2021[\"estado\"] = df2021[\"estado\"].str.upper().str.replace(\" \", \"\")\n",
    "# Agrupar por fecha y entidad, y sumar los valores\n",
    "df2021 = df2021.groupby([\"year_month\", \"estado\"], as_index=False).sum()\n",
    "# Separar la columna de fecha en año y mes\n",
    "df2021[[\"Año\", \"Mes\"]] = df2021[\"year_month\"].str.split(\"-\", expand=True)\n",
    "\n",
    "# Eliminar la columna original de fecha\n",
    "df2021 = df2021.drop(columns=[\"year_month\"])"
   ]
  },
  {
   "cell_type": "code",
   "execution_count": 5,
   "metadata": {},
   "outputs": [],
   "source": [
    "df2022 = pd.read_csv(\"conteos_mensuales_2022.csv\")\n",
    "df2022[\"estado\"] = df2022[\"estado\"].str.upper().str.replace(\" \", \"\")\n",
    "# Agrupar por fecha y entidad, y sumar los valores\n",
    "df2022 = df2022.groupby([\"year_month\", \"estado\"], as_index=False).sum()\n",
    "# Separar la columna de fecha en año y mes\n",
    "df2022[[\"Año\", \"Mes\"]] = df2022[\"year_month\"].str.split(\"-\", expand=True)\n",
    "\n",
    "# Eliminar la columna original de fecha\n",
    "df2022 = df2022.drop(columns=[\"year_month\"])"
   ]
  },
  {
   "cell_type": "code",
   "execution_count": 6,
   "metadata": {},
   "outputs": [
    {
     "data": {
      "text/plain": [
       "<flask_cors.extension.CORS at 0x219130f8ad0>"
      ]
     },
     "execution_count": 6,
     "metadata": {},
     "output_type": "execute_result"
    }
   ],
   "source": [
    "app = Flask(__name__)\n",
    "CORS(app)"
   ]
  },
  {
   "cell_type": "code",
   "execution_count": 7,
   "metadata": {},
   "outputs": [],
   "source": [
    "datasets = {\"2019\": df2019, \"2020\": df2020, \"2021\": df2021, \"2022\": df2022}"
   ]
  },
  {
   "cell_type": "code",
   "execution_count": 8,
   "metadata": {},
   "outputs": [],
   "source": [
    "@app.route(\"/get_data_by_year\", methods=[\"POST\"])\n",
    "def get_data_by_year():\n",
    "    request_data = request.get_json()\n",
    "    estado = request_data.get(\"estado\").upper().replace(\" \", \"\")\n",
    "    año = request_data.get(\"año\")\n",
    "\n",
    "    if año not in datasets:\n",
    "        return jsonify({\"error\": \"Año no válido\"}), 400\n",
    "\n",
    "    df = datasets[año]\n",
    "    result = df[df[\"estado\"] == estado]\n",
    "\n",
    "    if result.empty:\n",
    "        return (\n",
    "            jsonify(\n",
    "                {\"error\": \"No se encontraron datos para los parámetros proporcionados\"}\n",
    "            ),\n",
    "            404,\n",
    "        )\n",
    "\n",
    "    result = result.to_dict(orient=\"records\")\n",
    "    return jsonify(result), 200"
   ]
  },
  {
   "cell_type": "code",
   "execution_count": 9,
   "metadata": {},
   "outputs": [],
   "source": [
    "@app.route(\"/get_data\", methods=[\"POST\"])\n",
    "def get_data():\n",
    "    request_data = request.get_json()\n",
    "    estado = request_data.get(\"estado\").upper().replace(\" \", \"\")\n",
    "    mes = request_data.get(\"mes\")\n",
    "    año = request_data.get(\"año\")\n",
    "\n",
    "    if año not in datasets:\n",
    "        return jsonify({\"error\": \"Año no válido\"}), 400\n",
    "\n",
    "    df = datasets[año]\n",
    "    result = df[(df[\"estado\"] == estado) & (df[\"Mes\"] == mes)]\n",
    "\n",
    "    if result.empty:\n",
    "        return (\n",
    "            jsonify(\n",
    "                {\"error\": \"No se encontraron datos para los parámetros proporcionados\"}\n",
    "            ),\n",
    "            404,\n",
    "        )\n",
    "\n",
    "    result = result.to_dict(orient=\"records\")\n",
    "    return jsonify(result), 200\n"
   ]
  },
  {
   "cell_type": "code",
   "execution_count": null,
   "metadata": {},
   "outputs": [
    {
     "name": "stdout",
     "output_type": "stream",
     "text": [
      " * Serving Flask app '__main__'\n",
      " * Debug mode: off\n"
     ]
    },
    {
     "name": "stderr",
     "output_type": "stream",
     "text": [
      "WARNING: This is a development server. Do not use it in a production deployment. Use a production WSGI server instead.\n",
      " * Running on http://127.0.0.1:5000\n",
      "Press CTRL+C to quit\n"
     ]
    }
   ],
   "source": [
    "def run_app():\n",
    "    app.run(debug=False, use_reloader=False)\n",
    "\n",
    "\n",
    "# Ejecutar el servidor Flask en un hilo separado\n",
    "threading.Thread(target=run_app).start()"
   ]
  },
  {
   "cell_type": "code",
   "execution_count": 11,
   "metadata": {},
   "outputs": [
    {
     "name": "stderr",
     "output_type": "stream",
     "text": [
      "127.0.0.1 - - [13/Jun/2024 00:48:18] \"POST /get_data_by_year HTTP/1.1\" 200 -\n"
     ]
    },
    {
     "name": "stdout",
     "output_type": "stream",
     "text": [
      "[{'Año': '2019', 'Mes': '01', 'conteo': 341, 'estado': 'CIUDADDEMÉXICO'}, {'Año': '2019', 'Mes': '02', 'conteo': 397, 'estado': 'CIUDADDEMÉXICO'}, {'Año': '2019', 'Mes': '03', 'conteo': 544, 'estado': 'CIUDADDEMÉXICO'}, {'Año': '2019', 'Mes': '04', 'conteo': 400, 'estado': 'CIUDADDEMÉXICO'}, {'Año': '2019', 'Mes': '05', 'conteo': 405, 'estado': 'CIUDADDEMÉXICO'}, {'Año': '2019', 'Mes': '06', 'conteo': 501, 'estado': 'CIUDADDEMÉXICO'}, {'Año': '2019', 'Mes': '07', 'conteo': 618, 'estado': 'CIUDADDEMÉXICO'}, {'Año': '2019', 'Mes': '08', 'conteo': 892, 'estado': 'CIUDADDEMÉXICO'}, {'Año': '2019', 'Mes': '09', 'conteo': 718, 'estado': 'CIUDADDEMÉXICO'}, {'Año': '2019', 'Mes': '10', 'conteo': 771, 'estado': 'CIUDADDEMÉXICO'}, {'Año': '2019', 'Mes': '11', 'conteo': 579, 'estado': 'CIUDADDEMÉXICO'}, {'Año': '2019', 'Mes': '12', 'conteo': 761, 'estado': 'CIUDADDEMÉXICO'}]\n"
     ]
    }
   ],
   "source": [
    "import requests\n",
    "import json\n",
    "\n",
    "url = \"http://127.0.0.1:5000/get_data_by_year\"\n",
    "headers = {\"Content-Type\": \"application/json\"}\n",
    "data = {\"estado\": \"Ciudad de México\", \"año\": \"2019\"}\n",
    "\n",
    "response = requests.post(url, headers=headers, data=json.dumps(data))\n",
    "print(response.json())"
   ]
  }
 ],
 "metadata": {
  "kernelspec": {
   "display_name": "Python 3",
   "language": "python",
   "name": "python3"
  },
  "language_info": {
   "codemirror_mode": {
    "name": "ipython",
    "version": 3
   },
   "file_extension": ".py",
   "mimetype": "text/x-python",
   "name": "python",
   "nbconvert_exporter": "python",
   "pygments_lexer": "ipython3",
   "version": "3.12.3"
  }
 },
 "nbformat": 4,
 "nbformat_minor": 2
}
